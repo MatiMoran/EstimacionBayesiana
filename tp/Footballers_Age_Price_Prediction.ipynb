{
 "cells": [
  {
   "cell_type": "markdown",
   "metadata": {
    "id": "2pmeb8T580VL"
   },
   "source": [
    "Idea:\n",
    "\n",
    "Hacer Gaussian Process y Partial Pooling\n",
    "\n",
    "Vamos a arrancar modelando como evoluciona el precio de un jugador cuando envejece. Para esto usaremos solo 2 parametros de nuestros datos:\n",
    "- Edad del jugador\n",
    "- Precio del jugador\n",
    "\n",
    "Usaremos el Gaussian Process porque parece ser una distr que estima bien el comportamiento esperado.\n",
    "\n",
    "Usaremos Partial Pooling para agrupar jugadores parecidos entre ellos (ver si conviene por continente, por liga, division, etc)\n",
    "\n",
    "Vamos a agarrar un grupo de jugadores y generar el Gaussian Process entre ellos. Y asi con todos los conjuntos de grupos qu tengamos.\n",
    "\n",
    "\n",
    "Link al dataset: https://www.kaggle.com/datasets/davidcariboo/player-scores/data"
   ]
  },
  {
   "cell_type": "code",
   "execution_count": 4,
   "metadata": {
    "executionInfo": {
     "elapsed": 27713,
     "status": "ok",
     "timestamp": 1731015199783,
     "user": {
      "displayName": "matias moran",
      "userId": "06649510186008901372"
     },
     "user_tz": 180
    },
    "id": "LtapMt34-6zb"
   },
   "outputs": [],
   "source": [
    "import numpy as np\n",
    "import pandas as pd\n",
    "import seaborn as sns\n",
    "import seaborn.objects as so\n",
    "import matplotlib.pyplot as plt\n",
    "from scipy.stats import expon, norm   # Medidas de desempeño\n",
    "import pymc as pm"
   ]
  },
  {
   "cell_type": "code",
   "execution_count": 5,
   "metadata": {
    "colab": {
     "base_uri": "https://localhost:8080/"
    },
    "executionInfo": {
     "elapsed": 33,
     "status": "ok",
     "timestamp": 1731015199784,
     "user": {
      "displayName": "matias moran",
      "userId": "06649510186008901372"
     },
     "user_tz": 180
    },
    "id": "ZRVmRkY-geo1",
    "outputId": "0d31d685-1f00-487d-f1ad-c3a93077b5e3"
   },
   "outputs": [
    {
     "name": "stdout",
     "output_type": "stream",
     "text": [
      "CSV loaded successfully.\n"
     ]
    }
   ],
   "source": [
    "# Chequear que este en el Drive de los dos integrantes del grupo\n",
    "file_path_dir = '../sandbox/football/kaggle/'\n",
    "file_path_appearances = file_path_dir + 'appearances.csv'\n",
    "file_path_players = file_path_dir + 'players.csv'\n",
    "file_path_games = file_path_dir + 'games.csv'\n",
    "file_path_player_valuations = file_path_dir + 'player_valuations.csv'\n",
    "\n",
    "try:\n",
    "  appearances = pd.read_csv(file_path_appearances)\n",
    "  players = pd.read_csv(file_path_players)\n",
    "  games = pd.read_csv(file_path_games)\n",
    "  valuations = pd.read_csv(file_path_player_valuations)\n",
    "  print(\"CSV loaded successfully.\")\n",
    "except FileNotFoundError:\n",
    "  print(\"File not found at the specified path.\")\n",
    "except Exception as e:\n",
    "  print(\"An error occurred while loading the CSV:\", e)"
   ]
  },
  {
   "cell_type": "markdown",
   "metadata": {},
   "source": [
    "## Armar el dataset"
   ]
  },
  {
   "cell_type": "markdown",
   "metadata": {},
   "source": [
    "Como modelo base vamos a querer obtener:\n",
    "- jugador\n",
    "- edad\n",
    "- precio "
   ]
  },
  {
   "cell_type": "code",
   "execution_count": null,
   "metadata": {},
   "outputs": [],
   "source": []
  }
 ],
 "metadata": {
  "colab": {
   "provenance": []
  },
  "kernelspec": {
   "display_name": ".venv",
   "language": "python",
   "name": "python3"
  },
  "language_info": {
   "codemirror_mode": {
    "name": "ipython",
    "version": 3
   },
   "file_extension": ".py",
   "mimetype": "text/x-python",
   "name": "python",
   "nbconvert_exporter": "python",
   "pygments_lexer": "ipython3",
   "version": "3.11.9"
  }
 },
 "nbformat": 4,
 "nbformat_minor": 0
}
