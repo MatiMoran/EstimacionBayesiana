{
 "cells": [
  {
   "cell_type": "markdown",
   "metadata": {
    "id": "2pmeb8T580VL"
   },
   "source": [
    "Idea:\n",
    "\n",
    "Hacer Gaussian Process y Partial Pooling\n",
    "\n",
    "Vamos a arrancar modelando como evoluciona el precio de un jugador cuando envejece. Para esto usaremos solo 2 parametros de nuestros datos:\n",
    "- Edad del jugador\n",
    "- Precio del jugador\n",
    "\n",
    "Usaremos el Gaussian Process porque parece ser una distr que estima bien el comportamiento esperado.\n",
    "\n",
    "Usaremos Partial Pooling para agrupar jugadores parecidos entre ellos (ver si conviene por continente, por liga, division, etc)\n",
    "\n",
    "Vamos a agarrar un grupo de jugadores y generar el Gaussian Process entre ellos. Y asi con todos los conjuntos de grupos qu tengamos.\n",
    "\n",
    "\n",
    "Link al dataset: https://www.kaggle.com/datasets/davidcariboo/player-scores/data"
   ]
  },
  {
   "cell_type": "code",
   "execution_count": 1,
   "metadata": {
    "executionInfo": {
     "elapsed": 27713,
     "status": "ok",
     "timestamp": 1731015199783,
     "user": {
      "displayName": "matias moran",
      "userId": "06649510186008901372"
     },
     "user_tz": 180
    },
    "id": "LtapMt34-6zb"
   },
   "outputs": [],
   "source": [
    "import numpy as np\n",
    "import pandas as pd\n",
    "import seaborn as sns\n",
    "import seaborn.objects as so\n",
    "import matplotlib.pyplot as plt\n",
    "from scipy.stats import expon, norm   # Medidas de desempeño\n",
    "import pymc as pm"
   ]
  },
  {
   "cell_type": "code",
   "execution_count": 2,
   "metadata": {
    "colab": {
     "base_uri": "https://localhost:8080/"
    },
    "executionInfo": {
     "elapsed": 33,
     "status": "ok",
     "timestamp": 1731015199784,
     "user": {
      "displayName": "matias moran",
      "userId": "06649510186008901372"
     },
     "user_tz": 180
    },
    "id": "ZRVmRkY-geo1",
    "outputId": "0d31d685-1f00-487d-f1ad-c3a93077b5e3"
   },
   "outputs": [
    {
     "name": "stdout",
     "output_type": "stream",
     "text": [
      "CSV loaded successfully.\n"
     ]
    }
   ],
   "source": [
    "# Chequear que este en el Drive de los dos integrantes del grupo\n",
    "file_path_dir = '../sandbox/football/kaggle/'\n",
    "file_path_appearances = file_path_dir + 'appearances.csv'\n",
    "file_path_players = file_path_dir + 'players.csv'\n",
    "file_path_games = file_path_dir + 'games.csv'\n",
    "file_path_player_valuations = file_path_dir + 'player_valuations.csv'\n",
    "\n",
    "try:\n",
    "  appearances = pd.read_csv(file_path_appearances)\n",
    "  players = pd.read_csv(file_path_players)\n",
    "  games = pd.read_csv(file_path_games)\n",
    "  valuations = pd.read_csv(file_path_player_valuations)\n",
    "  print(\"CSV loaded successfully.\")\n",
    "except FileNotFoundError:\n",
    "  print(\"File not found at the specified path.\")\n",
    "except Exception as e:\n",
    "  print(\"An error occurred while loading the CSV:\", e)"
   ]
  },
  {
   "cell_type": "markdown",
   "metadata": {},
   "source": [
    "## Armar el dataset"
   ]
  },
  {
   "cell_type": "markdown",
   "metadata": {},
   "source": [
    "Como modelo base vamos a querer obtener:\n",
    "- jugador\n",
    "- edad\n",
    "- precio "
   ]
  },
  {
   "cell_type": "code",
   "execution_count": 3,
   "metadata": {},
   "outputs": [],
   "source": [
    "player_ids_names = players[[\"player_id\", \"name\"]]\n",
    "player_valuations_data = valuations[[\"player_id\", \"market_value_in_eur\", \"date\"]]\n",
    "players_with_age = players[[\"player_id\", \"name\", \"date_of_birth\"]]\n",
    "\n",
    "# drop any rows with missing values\n",
    "player_ids_names = player_ids_names.dropna()\n",
    "player_valuations_data = player_valuations_data.dropna()\n",
    "players_with_age = players_with_age.dropna()\n",
    "\n",
    "# reset the index of the DataFrames\n",
    "player_ids_names = player_ids_names.reset_index(drop=True)\n",
    "player_valuations_data = player_valuations_data.reset_index(drop=True)\n",
    "players_with_age = players_with_age.reset_index(drop=True)"
   ]
  },
  {
   "cell_type": "code",
   "execution_count": 4,
   "metadata": {},
   "outputs": [
    {
     "data": {
      "text/html": [
       "<div>\n",
       "<style scoped>\n",
       "    .dataframe tbody tr th:only-of-type {\n",
       "        vertical-align: middle;\n",
       "    }\n",
       "\n",
       "    .dataframe tbody tr th {\n",
       "        vertical-align: top;\n",
       "    }\n",
       "\n",
       "    .dataframe thead th {\n",
       "        text-align: right;\n",
       "    }\n",
       "</style>\n",
       "<table border=\"1\" class=\"dataframe\">\n",
       "  <thead>\n",
       "    <tr style=\"text-align: right;\">\n",
       "      <th></th>\n",
       "      <th>player_id</th>\n",
       "      <th>name</th>\n",
       "      <th>age</th>\n",
       "    </tr>\n",
       "  </thead>\n",
       "  <tbody>\n",
       "    <tr>\n",
       "      <th>0</th>\n",
       "      <td>10</td>\n",
       "      <td>Miroslav Klose</td>\n",
       "      <td>46</td>\n",
       "    </tr>\n",
       "    <tr>\n",
       "      <th>1</th>\n",
       "      <td>26</td>\n",
       "      <td>Roman Weidenfeller</td>\n",
       "      <td>44</td>\n",
       "    </tr>\n",
       "    <tr>\n",
       "      <th>2</th>\n",
       "      <td>65</td>\n",
       "      <td>Dimitar Berbatov</td>\n",
       "      <td>43</td>\n",
       "    </tr>\n",
       "    <tr>\n",
       "      <th>3</th>\n",
       "      <td>77</td>\n",
       "      <td>Lúcio</td>\n",
       "      <td>46</td>\n",
       "    </tr>\n",
       "    <tr>\n",
       "      <th>4</th>\n",
       "      <td>80</td>\n",
       "      <td>Tom Starke</td>\n",
       "      <td>43</td>\n",
       "    </tr>\n",
       "    <tr>\n",
       "      <th>...</th>\n",
       "      <td>...</td>\n",
       "      <td>...</td>\n",
       "      <td>...</td>\n",
       "    </tr>\n",
       "    <tr>\n",
       "      <th>31521</th>\n",
       "      <td>1264305</td>\n",
       "      <td>Sjors-Lowis Hermsen</td>\n",
       "      <td>18</td>\n",
       "    </tr>\n",
       "    <tr>\n",
       "      <th>31522</th>\n",
       "      <td>1266282</td>\n",
       "      <td>Yaroslav Shevchenko</td>\n",
       "      <td>18</td>\n",
       "    </tr>\n",
       "    <tr>\n",
       "      <th>31523</th>\n",
       "      <td>1268326</td>\n",
       "      <td>Tymur Butenko</td>\n",
       "      <td>17</td>\n",
       "    </tr>\n",
       "    <tr>\n",
       "      <th>31524</th>\n",
       "      <td>1268378</td>\n",
       "      <td>Adnan Efe Durmuşoğlu</td>\n",
       "      <td>18</td>\n",
       "    </tr>\n",
       "    <tr>\n",
       "      <th>31525</th>\n",
       "      <td>1270417</td>\n",
       "      <td>Bogdan Bytsenko</td>\n",
       "      <td>18</td>\n",
       "    </tr>\n",
       "  </tbody>\n",
       "</table>\n",
       "<p>31526 rows × 3 columns</p>\n",
       "</div>"
      ],
      "text/plain": [
       "       player_id                  name  age\n",
       "0             10        Miroslav Klose   46\n",
       "1             26    Roman Weidenfeller   44\n",
       "2             65      Dimitar Berbatov   43\n",
       "3             77                 Lúcio   46\n",
       "4             80            Tom Starke   43\n",
       "...          ...                   ...  ...\n",
       "31521    1264305   Sjors-Lowis Hermsen   18\n",
       "31522    1266282   Yaroslav Shevchenko   18\n",
       "31523    1268326         Tymur Butenko   17\n",
       "31524    1268378  Adnan Efe Durmuşoğlu   18\n",
       "31525    1270417       Bogdan Bytsenko   18\n",
       "\n",
       "[31526 rows x 3 columns]"
      ]
     },
     "execution_count": 4,
     "metadata": {},
     "output_type": "execute_result"
    }
   ],
   "source": [
    "from datetime import datetime\n",
    "\n",
    "#Transforma date a años (saco los meses y dias porque no nos preocupa tanto la exactitud)\n",
    "def calculate_age(date_of_birth):\n",
    "    if isinstance(date_of_birth, str):\n",
    "        current_date = datetime(2024, 11, 4)    # Ultima fecha de nuestro dataset.\n",
    "        birth_date = datetime.strptime(date_of_birth, \"%Y-%m-%d\")\n",
    "\n",
    "        age = current_date.year - birth_date.year\n",
    "        if (current_date.month, current_date.day) < (birth_date.month, birth_date.day):\n",
    "            age -= 1\n",
    "\n",
    "        return age\n",
    "    else:\n",
    "        return None\n",
    "\n",
    "players_with_age = players_with_age.dropna(subset=[\"date_of_birth\"])  # Eliminamos los jugadores sin fecha de nacimiento\n",
    "players_with_age['age'] = players_with_age['date_of_birth'].apply(calculate_age)    # Calculamos la edad\n",
    "players_with_age.drop(\"date_of_birth\", axis = 1)    # Eliminamos \"date_of_birth\""
   ]
  },
  {
   "cell_type": "code",
   "execution_count": 5,
   "metadata": {},
   "outputs": [],
   "source": [
    "from datetime import datetime\n",
    "\n",
    "#Transforma date a años (saco los meses y dias porque no nos preocupa tanto la exactitud)\n",
    "def calculate_age(date_of_birth):\n",
    "    if isinstance(date_of_birth, str):\n",
    "        current_date = datetime(2024, 11, 4)    # Ultima fecha de nuestro dataset.\n",
    "        birth_date = datetime.strptime(date_of_birth, \"%Y-%m-%d\")\n",
    "\n",
    "        age = current_date.year - birth_date.year\n",
    "        if (current_date.month, current_date.day) < (birth_date.month, birth_date.day):\n",
    "            age -= 1\n",
    "\n",
    "        return age\n",
    "    else:\n",
    "        return None\n",
    "\n",
    "players_with_age['age'] = players_with_age['date_of_birth'].apply(calculate_age)    # Calculamos la edad\n",
    "players_with_age = players_with_age.drop(\"date_of_birth\", axis = 1)    # Eliminamos \"date_of_birth\""
   ]
  },
  {
   "cell_type": "markdown",
   "metadata": {},
   "source": [
    "Convierto date_of_birth a age"
   ]
  },
  {
   "cell_type": "code",
   "execution_count": 6,
   "metadata": {},
   "outputs": [
    {
     "data": {
      "text/html": [
       "<div>\n",
       "<style scoped>\n",
       "    .dataframe tbody tr th:only-of-type {\n",
       "        vertical-align: middle;\n",
       "    }\n",
       "\n",
       "    .dataframe tbody tr th {\n",
       "        vertical-align: top;\n",
       "    }\n",
       "\n",
       "    .dataframe thead th {\n",
       "        text-align: right;\n",
       "    }\n",
       "</style>\n",
       "<table border=\"1\" class=\"dataframe\">\n",
       "  <thead>\n",
       "    <tr style=\"text-align: right;\">\n",
       "      <th></th>\n",
       "      <th>player_id</th>\n",
       "      <th>name_x</th>\n",
       "      <th>age</th>\n",
       "      <th>market_value_in_eur</th>\n",
       "      <th>date</th>\n",
       "      <th>name_y</th>\n",
       "    </tr>\n",
       "  </thead>\n",
       "  <tbody>\n",
       "    <tr>\n",
       "      <th>0</th>\n",
       "      <td>10</td>\n",
       "      <td>Miroslav Klose</td>\n",
       "      <td>46</td>\n",
       "      <td>7000000</td>\n",
       "      <td>2004-10-04</td>\n",
       "      <td>Miroslav Klose</td>\n",
       "    </tr>\n",
       "    <tr>\n",
       "      <th>1</th>\n",
       "      <td>10</td>\n",
       "      <td>Miroslav Klose</td>\n",
       "      <td>46</td>\n",
       "      <td>9000000</td>\n",
       "      <td>2005-01-07</td>\n",
       "      <td>Miroslav Klose</td>\n",
       "    </tr>\n",
       "    <tr>\n",
       "      <th>2</th>\n",
       "      <td>10</td>\n",
       "      <td>Miroslav Klose</td>\n",
       "      <td>46</td>\n",
       "      <td>12000000</td>\n",
       "      <td>2005-05-05</td>\n",
       "      <td>Miroslav Klose</td>\n",
       "    </tr>\n",
       "    <tr>\n",
       "      <th>3</th>\n",
       "      <td>10</td>\n",
       "      <td>Miroslav Klose</td>\n",
       "      <td>46</td>\n",
       "      <td>15000000</td>\n",
       "      <td>2005-09-30</td>\n",
       "      <td>Miroslav Klose</td>\n",
       "    </tr>\n",
       "    <tr>\n",
       "      <th>4</th>\n",
       "      <td>10</td>\n",
       "      <td>Miroslav Klose</td>\n",
       "      <td>46</td>\n",
       "      <td>20000000</td>\n",
       "      <td>2006-01-09</td>\n",
       "      <td>Miroslav Klose</td>\n",
       "    </tr>\n",
       "    <tr>\n",
       "      <th>...</th>\n",
       "      <td>...</td>\n",
       "      <td>...</td>\n",
       "      <td>...</td>\n",
       "      <td>...</td>\n",
       "      <td>...</td>\n",
       "      <td>...</td>\n",
       "    </tr>\n",
       "    <tr>\n",
       "      <th>477626</th>\n",
       "      <td>1230202</td>\n",
       "      <td>Borja Vázquez</td>\n",
       "      <td>19</td>\n",
       "      <td>50000</td>\n",
       "      <td>2024-06-24</td>\n",
       "      <td>Borja Vázquez</td>\n",
       "    </tr>\n",
       "    <tr>\n",
       "      <th>477627</th>\n",
       "      <td>1237999</td>\n",
       "      <td>Samuel Obinaya</td>\n",
       "      <td>19</td>\n",
       "      <td>100000</td>\n",
       "      <td>2024-06-06</td>\n",
       "      <td>Samuel Obinaya</td>\n",
       "    </tr>\n",
       "    <tr>\n",
       "      <th>477628</th>\n",
       "      <td>1240467</td>\n",
       "      <td>Artem Prysyazhnyuk</td>\n",
       "      <td>19</td>\n",
       "      <td>50000</td>\n",
       "      <td>2024-06-06</td>\n",
       "      <td>Artem Prysyazhnyuk</td>\n",
       "    </tr>\n",
       "    <tr>\n",
       "      <th>477629</th>\n",
       "      <td>1240762</td>\n",
       "      <td>Araphat Mohammed</td>\n",
       "      <td>18</td>\n",
       "      <td>50000</td>\n",
       "      <td>2024-06-10</td>\n",
       "      <td>Araphat Mohammed</td>\n",
       "    </tr>\n",
       "    <tr>\n",
       "      <th>477630</th>\n",
       "      <td>1247360</td>\n",
       "      <td>Ivan M'Bahia</td>\n",
       "      <td>19</td>\n",
       "      <td>50000</td>\n",
       "      <td>2024-06-03</td>\n",
       "      <td>Ivan M'Bahia</td>\n",
       "    </tr>\n",
       "  </tbody>\n",
       "</table>\n",
       "<p>477631 rows × 6 columns</p>\n",
       "</div>"
      ],
      "text/plain": [
       "        player_id              name_x  age  market_value_in_eur        date  \\\n",
       "0              10      Miroslav Klose   46              7000000  2004-10-04   \n",
       "1              10      Miroslav Klose   46              9000000  2005-01-07   \n",
       "2              10      Miroslav Klose   46             12000000  2005-05-05   \n",
       "3              10      Miroslav Klose   46             15000000  2005-09-30   \n",
       "4              10      Miroslav Klose   46             20000000  2006-01-09   \n",
       "...           ...                 ...  ...                  ...         ...   \n",
       "477626    1230202       Borja Vázquez   19                50000  2024-06-24   \n",
       "477627    1237999      Samuel Obinaya   19               100000  2024-06-06   \n",
       "477628    1240467  Artem Prysyazhnyuk   19                50000  2024-06-06   \n",
       "477629    1240762    Araphat Mohammed   18                50000  2024-06-10   \n",
       "477630    1247360        Ivan M'Bahia   19                50000  2024-06-03   \n",
       "\n",
       "                    name_y  \n",
       "0           Miroslav Klose  \n",
       "1           Miroslav Klose  \n",
       "2           Miroslav Klose  \n",
       "3           Miroslav Klose  \n",
       "4           Miroslav Klose  \n",
       "...                    ...  \n",
       "477626       Borja Vázquez  \n",
       "477627      Samuel Obinaya  \n",
       "477628  Artem Prysyazhnyuk  \n",
       "477629    Araphat Mohammed  \n",
       "477630        Ivan M'Bahia  \n",
       "\n",
       "[477631 rows x 6 columns]"
      ]
     },
     "execution_count": 6,
     "metadata": {},
     "output_type": "execute_result"
    }
   ],
   "source": [
    "merged_df = players_with_age.merge(player_valuations_data, on='player_id').merge(player_ids_names, on='player_id')\n",
    "merged_df"
   ]
  },
  {
   "cell_type": "markdown",
   "metadata": {},
   "source": [
    "## Boceto de intento de Proceso Gaussiano para edad y precio de jugadores usando sklearn\n",
    "\n",
    "- Falta ajustar mil cosas, averiguar mil otras y usar partial pooling\n",
    "- Ver si es mejor implementarlo con PYMC"
   ]
  },
  {
   "cell_type": "code",
   "execution_count": 7,
   "metadata": {},
   "outputs": [
    {
     "data": {
      "image/png": "[encoded data removed]",
      "text/plain": [
       "<Figure size 640x480 with 1 Axes>"
      ]
     },
     "metadata": {},
     "output_type": "display_data"
    }
   ],
   "source": [
    "import numpy as np\n",
    "import pandas as pd\n",
    "from sklearn.gaussian_process import GaussianProcessRegressor\n",
    "from sklearn.gaussian_process.kernels import RBF, ConstantKernel as C\n",
    "\n",
    "# Comparamos la edad con el valor de mercado de los jugadores\n",
    "X = merged_df[['age']].values  \n",
    "y = merged_df['market_value_in_eur'].values  \n",
    "\n",
    "# Normalizar los datos\n",
    "X_mean, X_std = X.mean(), X.std()\n",
    "y_mean, y_std = y.mean(), y.std()\n",
    "X = (X - X_mean) / X_std\n",
    "y = (y - y_mean) / y_std\n",
    "\n",
    "# Usamos un subset de los datos para entrenar el modelo y que no se sature la memoria\n",
    "subset_size = 1000  # Ajustar este valor según la memoria disponible \n",
    "indices = np.random.choice(len(X), subset_size, replace=False)\n",
    "X_subset = X[indices]\n",
    "y_subset = y[indices]\n",
    "\n",
    "# Definir el kernel del proceso gausiano\n",
    "kernel = C(1.0, (1e-3, 1e3)) * RBF(1, (1e-2, 1e2))\n",
    "gp = GaussianProcessRegressor(kernel=None, n_restarts_optimizer=10) # Ver si usar (o no) el kernel definido\n",
    "\n",
    "# Fitear\n",
    "gp.fit(X_subset, y_subset)\n",
    "\n",
    "# Hacer predicciones (por ejemplo, para edades entre 18 y 45 años)\n",
    "X_pred = np.arange(18, 45).reshape(-1, 1)\n",
    "X_pred = (X_pred - X_mean) / X_std  # Normalizar las edades de predicción\n",
    "y_pred, sigma = gp.predict(X_pred, return_std=True)\n",
    "\n",
    "# Ajustar la edad y el valor de mercado a sus valores originales\n",
    "X_pred = X_pred * X_std + X_mean\n",
    "\n",
    "# Plotear\n",
    "import matplotlib.pyplot as plt\n",
    "\n",
    "plt.figure()\n",
    "plt.plot(X_subset * X_std + X_mean, y_subset * y_std + y_mean, 'r.', markersize=10, label='Observaciones')\n",
    "plt.plot(X_pred, y_pred * y_std + y_mean, 'b-', label='Prediction')\n",
    "plt.fill_between(X_pred.ravel(), (y_pred - 1.96*sigma) * y_std + y_mean, (y_pred + 1.96*sigma) * y_std + y_mean, alpha=0.2, color='k')\n",
    "plt.xlabel('Age')\n",
    "plt.ylabel('Market Value (in EUR)')\n",
    "plt.legend()\n",
    "\n",
    "plt.show()"
   ]
  },
  {
   "cell_type": "markdown",
   "metadata": {},
   "source": [
    "## Boceto de prueba para Proceso Gaussiano usando PYMC "
   ]
  },
  {
   "cell_type": "code",
   "execution_count": 8,
   "metadata": {},
   "outputs": [
    {
     "name": "stderr",
     "output_type": "stream",
     "text": [
      "c:\\Users\\Matias\\anaconda3\\envs\\pymc_env\\Lib\\site-packages\\pymc\\gp\\gp.py:55: FutureWarning: The 'noise' parameter has been been changed to 'sigma' in order to standardize the GP API and will be deprecated in future releases.\n",
      "  warnings.warn(_noise_deprecation_warning, FutureWarning)\n"
     ]
    }
   ],
   "source": [
    "import matplotlib.pyplot as plt\n",
    "import pymc as pm\n",
    "import arviz as az\n",
    "\n",
    "# Datos de ejemplo: edades y precios de futbolistas\n",
    "ages = np.random.randint(18, 37, size=10)\n",
    "prices = np.random.randint(100, 600, size=10)\n",
    "\n",
    "# Convertir edades a un array 2D\n",
    "ages = ages[:, None]\n",
    "\n",
    "# Definir el modelo de Proceso Gaussiano en PyMC\n",
    "with pm.Model() as model:\n",
    "    # Definir la función de covarianza\n",
    "    prior = pm.Gamma(\"prior\", alpha=2, beta=1)\n",
    "    cov_func = pm.gp.cov.ExpQuad(1, ls=prior)\n",
    "    \n",
    "    # Definir el Proceso Gaussiano\n",
    "    gp = pm.gp.Marginal(cov_func=cov_func)\n",
    "    \n",
    "    # Definir el término de ruido\n",
    "    sigma = pm.HalfNormal(\"sigma\", sigma=1)\n",
    "    \n",
    "    # Definir la likelihood\n",
    "    y_est = gp.marginal_likelihood(\"y_est\", X=ages, y=prices, noise=sigma)\n",
    "    "
   ]
  },
  {
   "cell_type": "code",
   "execution_count": 9,
   "metadata": {},
   "outputs": [
    {
     "data": {
      "text/html": [
       "<pre style=\"white-space:pre;overflow-x:auto;line-height:normal;font-family:Menlo,'DejaVu Sans Mono',consolas,'Courier New',monospace\">c:\\Users\\Matias\\anaconda3\\envs\\pymc_env\\Lib\\site-packages\\rich\\live.py:231: UserWarning: install \"ipywidgets\" for \n",
       "Jupyter support\n",
       "  warnings.warn('install \"ipywidgets\" for Jupyter support')\n",
       "</pre>\n"
      ],
      "text/plain": [
       "c:\\Users\\Matias\\anaconda3\\envs\\pymc_env\\Lib\\site-packages\\rich\\live.py:231: UserWarning: install \"ipywidgets\" for \n",
       "Jupyter support\n",
       "  warnings.warn('install \"ipywidgets\" for Jupyter support')\n"
      ]
     },
     "metadata": {},
     "output_type": "display_data"
    },
    {
     "data": {
      "text/html": [
       "<pre style=\"white-space:pre;overflow-x:auto;line-height:normal;font-family:Menlo,'DejaVu Sans Mono',consolas,'Courier New',monospace\">c:\\Users\\Matias\\anaconda3\\envs\\pymc_env\\Lib\\site-packages\\rich\\live.py:231: UserWarning: install \"ipywidgets\" for \n",
       "Jupyter support\n",
       "  warnings.warn('install \"ipywidgets\" for Jupyter support')\n",
       "</pre>\n"
      ],
      "text/plain": [
       "c:\\Users\\Matias\\anaconda3\\envs\\pymc_env\\Lib\\site-packages\\rich\\live.py:231: UserWarning: install \"ipywidgets\" for \n",
       "Jupyter support\n",
       "  warnings.warn('install \"ipywidgets\" for Jupyter support')\n"
      ]
     },
     "metadata": {},
     "output_type": "display_data"
    },
    {
     "data": {
      "text/html": [
       "<pre style=\"white-space:pre;overflow-x:auto;line-height:normal;font-family:Menlo,'DejaVu Sans Mono',consolas,'Courier New',monospace\"></pre>\n"
      ],
      "text/plain": []
     },
     "metadata": {},
     "output_type": "display_data"
    },
    {
     "name": "stderr",
     "output_type": "stream",
     "text": [
      "Finished [100%]: Average Loss = 1,209.1\n"
     ]
    },
    {
     "data": {
      "text/plain": [
       "[<matplotlib.lines.Line2D at 0x208178db110>]"
      ]
     },
     "execution_count": 9,
     "metadata": {},
     "output_type": "execute_result"
    },
    {
     "data": {
      "image/png": "[encoded data removed]",
      "text/plain": [
       "<Figure size 640x480 with 1 Axes>"
      ]
     },
     "metadata": {},
     "output_type": "display_data"
    }
   ],
   "source": [
    "with model:\n",
    "    # Realiza la inferencia variacional automática (ADVI) \n",
    "    # (técnica para aproximar distribuciones posteriores en modelos bayesianos)\n",
    "    inferencia = pm.ADVI()\n",
    "    \n",
    "    # Ajusta el modelo utilizando ADVI durante 20000 iteraciones y devuelve una aproximacion del posterior\n",
    "    post = pm.fit(20000)\n",
    "    \n",
    "# Grafica el histograma de la aproximación obtenida durante el ajuste (lo que haciamos en el TP2)\n",
    "plt.plot(post.hist)"
   ]
  },
  {
   "cell_type": "code",
   "execution_count": 11,
   "metadata": {},
   "outputs": [
    {
     "ename": "KeyError",
     "evalue": "\"'f_pred' not found\"",
     "output_type": "error",
     "traceback": [
      "\u001b[1;31m---------------------------------------------------------------------------\u001b[0m",
      "\u001b[1;31mKeyError\u001b[0m                                  Traceback (most recent call last)",
      "Cell \u001b[1;32mIn[11], line 1\u001b[0m\n\u001b[1;32m----> 1\u001b[0m traces \u001b[38;5;241m=\u001b[39m \u001b[43mpost\u001b[49m\u001b[38;5;241;43m.\u001b[39;49m\u001b[43msample\u001b[49m\u001b[43m(\u001b[49m\u001b[38;5;28;43mvars\u001b[39;49m\u001b[43m \u001b[49m\u001b[38;5;241;43m=\u001b[39;49m\u001b[43m \u001b[49m\u001b[43mf_pred\u001b[49m\u001b[43m,\u001b[49m\u001b[43m \u001b[49m\u001b[43mdraws\u001b[49m\u001b[38;5;241;43m=\u001b[39;49m\u001b[38;5;241;43m1000\u001b[39;49m\u001b[43m)\u001b[49m\n\u001b[0;32m      2\u001b[0m n_samples \u001b[38;5;241m=\u001b[39m \u001b[38;5;241m1000\u001b[39m\n\u001b[0;32m      3\u001b[0m X_pred \u001b[38;5;241m=\u001b[39m np\u001b[38;5;241m.\u001b[39mlinspace(\u001b[38;5;241m18\u001b[39m, \u001b[38;5;241m36\u001b[39m, n_samples)[:, \u001b[38;5;28;01mNone\u001b[39;00m]\n",
      "File \u001b[1;32mc:\\Users\\Matias\\anaconda3\\envs\\pymc_env\\Lib\\site-packages\\pymc\\variational\\opvi.py:1556\u001b[0m, in \u001b[0;36mApproximation.sample\u001b[1;34m(self, draws, random_seed, return_inferencedata, **kwargs)\u001b[0m\n\u001b[0;32m   1554\u001b[0m \u001b[38;5;28;01mif\u001b[39;00m random_seed \u001b[38;5;129;01mis\u001b[39;00m \u001b[38;5;129;01mnot\u001b[39;00m \u001b[38;5;28;01mNone\u001b[39;00m:\n\u001b[0;32m   1555\u001b[0m     (random_seed,) \u001b[38;5;241m=\u001b[39m _get_seeds_per_chain(random_seed, \u001b[38;5;241m1\u001b[39m)\n\u001b[1;32m-> 1556\u001b[0m samples: \u001b[38;5;28mdict\u001b[39m \u001b[38;5;241m=\u001b[39m \u001b[38;5;28;43mself\u001b[39;49m\u001b[38;5;241;43m.\u001b[39;49m\u001b[43msample_dict_fn\u001b[49m(draws, random_seed\u001b[38;5;241m=\u001b[39mrandom_seed)\n\u001b[0;32m   1557\u001b[0m points \u001b[38;5;241m=\u001b[39m ({name: records[i] \u001b[38;5;28;01mfor\u001b[39;00m name, records \u001b[38;5;129;01min\u001b[39;00m samples\u001b[38;5;241m.\u001b[39mitems()} \u001b[38;5;28;01mfor\u001b[39;00m i \u001b[38;5;129;01min\u001b[39;00m \u001b[38;5;28mrange\u001b[39m(draws))\n\u001b[0;32m   1559\u001b[0m trace \u001b[38;5;241m=\u001b[39m NDArray(\n\u001b[0;32m   1560\u001b[0m     model\u001b[38;5;241m=\u001b[39m\u001b[38;5;28mself\u001b[39m\u001b[38;5;241m.\u001b[39mmodel,\n\u001b[0;32m   1561\u001b[0m     test_point\u001b[38;5;241m=\u001b[39m{name: records[\u001b[38;5;241m0\u001b[39m] \u001b[38;5;28;01mfor\u001b[39;00m name, records \u001b[38;5;129;01min\u001b[39;00m samples\u001b[38;5;241m.\u001b[39mitems()},\n\u001b[0;32m   1562\u001b[0m )\n",
      "File \u001b[1;32mc:\\Users\\Matias\\anaconda3\\envs\\pymc_env\\Lib\\site-packages\\cachetools\\__init__.py:814\u001b[0m, in \u001b[0;36mcachedmethod.<locals>.decorator.<locals>.wrapper\u001b[1;34m(self, *args, **kwargs)\u001b[0m\n\u001b[0;32m    812\u001b[0m \u001b[38;5;28;01mexcept\u001b[39;00m \u001b[38;5;167;01mKeyError\u001b[39;00m:\n\u001b[0;32m    813\u001b[0m     \u001b[38;5;28;01mpass\u001b[39;00m  \u001b[38;5;66;03m# key not found\u001b[39;00m\n\u001b[1;32m--> 814\u001b[0m v \u001b[38;5;241m=\u001b[39m \u001b[43mmethod\u001b[49m\u001b[43m(\u001b[49m\u001b[38;5;28;43mself\u001b[39;49m\u001b[43m,\u001b[49m\u001b[43m \u001b[49m\u001b[38;5;241;43m*\u001b[39;49m\u001b[43margs\u001b[49m\u001b[43m,\u001b[49m\u001b[43m \u001b[49m\u001b[38;5;241;43m*\u001b[39;49m\u001b[38;5;241;43m*\u001b[39;49m\u001b[43mkwargs\u001b[49m\u001b[43m)\u001b[49m\n\u001b[0;32m    815\u001b[0m \u001b[38;5;28;01mtry\u001b[39;00m:\n\u001b[0;32m    816\u001b[0m     c[k] \u001b[38;5;241m=\u001b[39m v\n",
      "File \u001b[1;32mc:\\Users\\Matias\\anaconda3\\envs\\pymc_env\\Lib\\site-packages\\pytensor\\configparser.py:44\u001b[0m, in \u001b[0;36m_ChangeFlagsDecorator.__call__.<locals>.res\u001b[1;34m(*args, **kwargs)\u001b[0m\n\u001b[0;32m     41\u001b[0m \u001b[38;5;129m@wraps\u001b[39m(f)\n\u001b[0;32m     42\u001b[0m \u001b[38;5;28;01mdef\u001b[39;00m \u001b[38;5;21mres\u001b[39m(\u001b[38;5;241m*\u001b[39margs, \u001b[38;5;241m*\u001b[39m\u001b[38;5;241m*\u001b[39mkwargs):\n\u001b[0;32m     43\u001b[0m     \u001b[38;5;28;01mwith\u001b[39;00m \u001b[38;5;28mself\u001b[39m:\n\u001b[1;32m---> 44\u001b[0m         \u001b[38;5;28;01mreturn\u001b[39;00m \u001b[43mf\u001b[49m\u001b[43m(\u001b[49m\u001b[38;5;241;43m*\u001b[39;49m\u001b[43margs\u001b[49m\u001b[43m,\u001b[49m\u001b[43m \u001b[49m\u001b[38;5;241;43m*\u001b[39;49m\u001b[38;5;241;43m*\u001b[39;49m\u001b[43mkwargs\u001b[49m\u001b[43m)\u001b[49m\n",
      "File \u001b[1;32mc:\\Users\\Matias\\anaconda3\\envs\\pymc_env\\Lib\\site-packages\\pymc\\variational\\opvi.py:1518\u001b[0m, in \u001b[0;36mApproximation.sample_dict_fn\u001b[1;34m(self)\u001b[0m\n\u001b[0;32m   1516\u001b[0m s \u001b[38;5;241m=\u001b[39m pt\u001b[38;5;241m.\u001b[39miscalar()\n\u001b[0;32m   1517\u001b[0m names \u001b[38;5;241m=\u001b[39m [\u001b[38;5;28mself\u001b[39m\u001b[38;5;241m.\u001b[39mmodel\u001b[38;5;241m.\u001b[39mrvs_to_values[v]\u001b[38;5;241m.\u001b[39mname \u001b[38;5;28;01mfor\u001b[39;00m v \u001b[38;5;129;01min\u001b[39;00m \u001b[38;5;28mself\u001b[39m\u001b[38;5;241m.\u001b[39mmodel\u001b[38;5;241m.\u001b[39mfree_RVs]\n\u001b[1;32m-> 1518\u001b[0m sampled \u001b[38;5;241m=\u001b[39m [\u001b[38;5;28;43mself\u001b[39;49m\u001b[38;5;241;43m.\u001b[39;49m\u001b[43mrslice\u001b[49m\u001b[43m(\u001b[49m\u001b[43mname\u001b[49m\u001b[43m)\u001b[49m \u001b[38;5;28;01mfor\u001b[39;00m name \u001b[38;5;129;01min\u001b[39;00m names]\n\u001b[0;32m   1519\u001b[0m sampled \u001b[38;5;241m=\u001b[39m \u001b[38;5;28mself\u001b[39m\u001b[38;5;241m.\u001b[39mset_size_and_deterministic(sampled, s, \u001b[38;5;241m0\u001b[39m)\n\u001b[0;32m   1520\u001b[0m sample_fn \u001b[38;5;241m=\u001b[39m compile_pymc([s], sampled)\n",
      "File \u001b[1;32mc:\\Users\\Matias\\anaconda3\\envs\\pymc_env\\Lib\\site-packages\\pymc\\variational\\opvi.py:1511\u001b[0m, in \u001b[0;36mApproximation.rslice\u001b[1;34m(self, name)\u001b[0m\n\u001b[0;32m   1509\u001b[0m         \u001b[38;5;28;01mbreak\u001b[39;00m\n\u001b[0;32m   1510\u001b[0m \u001b[38;5;28;01melse\u001b[39;00m:\n\u001b[1;32m-> 1511\u001b[0m     \u001b[38;5;28;01mraise\u001b[39;00m \u001b[38;5;167;01mKeyError\u001b[39;00m(\u001b[38;5;124mf\u001b[39m\u001b[38;5;124m\"\u001b[39m\u001b[38;5;132;01m{\u001b[39;00mname\u001b[38;5;132;01m!r}\u001b[39;00m\u001b[38;5;124m not found\u001b[39m\u001b[38;5;124m\"\u001b[39m)\n\u001b[0;32m   1512\u001b[0m \u001b[38;5;28;01mreturn\u001b[39;00m found\n",
      "\u001b[1;31mKeyError\u001b[0m: \"'f_pred' not found\""
     ]
    }
   ],
   "source": [
    "traces = post.sample(vars = f_pred, draws=1000)\n",
    "n_samples = 1000\n",
    "X_pred = np.linspace(18, 36, n_samples)[:, None]\n",
    "with model:\n",
    "    f_pred = gp.conditional(\"f_pred\", X_pred)\n",
    "    pred_samples = pm.sample_posterior_predictive(traces, var_names=[f_pred], samples=n_samples)"
   ]
  }
 ],
 "metadata": {
  "colab": {
   "provenance": []
  },
  "kernelspec": {
   "display_name": "pymc_env",
   "language": "python",
   "name": "python3"
  },
  "language_info": {
   "codemirror_mode": {
    "name": "ipython",
    "version": 3
   },
   "file_extension": ".py",
   "mimetype": "text/x-python",
   "name": "python",
   "nbconvert_exporter": "python",
   "pygments_lexer": "ipython3",
   "version": "3.12.7"
  }
 },
 "nbformat": 4,
 "nbformat_minor": 0
}
