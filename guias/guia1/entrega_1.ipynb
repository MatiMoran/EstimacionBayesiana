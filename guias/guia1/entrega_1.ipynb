{
 "cells": [
  {
   "cell_type": "markdown",
   "metadata": {},
   "source": [
    "# Inferencia Bayesiana Entrega 1: Maitas Moran LU 806/19"
   ]
  },
  {
   "cell_type": "markdown",
   "metadata": {},
   "source": [
    "## Guia 1 - Ejercicio 9\n",
    "El jugador Montiel convirtio los 12 penales que pateo al dia de la fecha en su carrera profesional\n",
    "\n",
    "a) Usando un prior beta de la probabilidad que tiene Montiel de convertir un penal, es decir tita ~ Beta(alpha, beta) encontrar la distribución posterior para tita y graficarla (definir a gusto los parámetros alpha y beta de la distribución)."
   ]
  },
  {
   "cell_type": "markdown",
   "metadata": {},
   "source": [
    "### Setup"
   ]
  },
  {
   "cell_type": "code",
   "execution_count": 3,
   "metadata": {},
   "outputs": [],
   "source": [
    "import numpy as np\n",
    "import pandas as pd\n",
    "import matplotlib.pyplot as plt"
   ]
  },
  {
   "cell_type": "markdown",
   "metadata": {},
   "source": [
    "### a) Usando un prior beta de la probabilidad que tiene Montiel de convertir un penal, es decir tita ~ Beta(alpha, beta) encontrar la distribución posterior para tita y graficarla (definir a gusto los parámetros alpha y beta de la distribución)."
   ]
  },
  {
   "cell_type": "markdown",
   "metadata": {},
   "source": [
    "Para este ejericio vamos a usar 2 Priors para ver si contienen diferencias significatibas entre si y que resultados obtenemos de cada uno.\n",
    "\n",
    "- Para el primer Prior \"Naive\" Usamos como Prior $\\Beta(13, 4)$ porque nos parece una distribucion que modela bien la probabilidad de que un jugador convierta un penal en base a la intuicion de saber que es mas probable que un jugador convierta un penal\n",
    "\n",
    "- El segundo prior va a ser una distribucion Beta en base a los datos historicos de penales de los 26 jugadores campeones del mundo en Qatar 2022 :argentina:"
   ]
  },
  {
   "cell_type": "markdown",
   "metadata": {},
   "source": [
    "Para cada uno de estos prior queremos encontrar la distribucion posterior para $\\theta$\n",
    "\n",
    "Primero calculamos la Likehood de ver los datos de montiel asumiendo que cada penal se comporta como un experimento de bernoulli con probabilidad $\\theta$, es decir que cada penal tiene la misma probabilidad de terminar en gol y que es independiente del penal anterior (esto es un modelo simplista ya que implica que no depende del arquero, del contexto del partido, de lesiones de jugadores, etc)\n",
    "\n",
    "- $\\theta \\sim  \\Beta(\\alpha_{0}, \\beta_{0})$\n",
    "\n",
    "- $L(\\theta | datosMontiel) = P(12/12 | \\theta) = \\theta^{12}$\n",
    "- $Prior(\\theta) \\propto \\theta^{\\alpha_{0} - 1} \\cdot (1 - \\theta)^{\\beta_{0} - 1}$ \n",
    "\n",
    "\n",
    "\n",
    "Podemos calcular la *Post* para cada *Prior* como:\n",
    "\n",
    "- $Post(\\theta | datosMontiel) \\propto  L(\\theta | datosMontiel) \\cdot p(\\theta)$\n",
    "\n",
    "- $Post(\\theta | datosMontiel) \\propto \\theta^{12} \\cdot \\theta^{\\alpha_{0} - 1} \\cdot (1 - \\theta)^{\\beta_{0} - 1}$\n",
    "\n",
    "- $Post(\\theta | datosMontiel) \\propto \\theta^{\\alpha_{0} + 11} \\cdot (1 - \\theta)^{\\beta_{0} - 1}$\n",
    "\n",
    "- $Post(\\theta | datosMontiel) \\sim Beta(\\alpha_{0} + 12, \\beta_{0}) $\n",
    "\n"
   ]
  },
  {
   "cell_type": "code",
   "execution_count": 4,
   "metadata": {},
   "outputs": [],
   "source": [
    "montiel_penalty_goals = 12\n",
    "montiel_penalty_misses = 0\n",
    "\n",
    "# Prior naive\n",
    "naive_prior_alpha = 13\n",
    "naive_prior_beta = 4\n",
    "\n",
    "naive_post_alpha = naive_prior_alpha + montiel_penalty_goals\n",
    "naive_post_alpha = naive_prior_beta + montiel_penalty_misses"
   ]
  },
  {
   "cell_type": "code",
   "execution_count": 10,
   "metadata": {},
   "outputs": [
    {
     "data": {
      "text/html": [
       "<div>\n",
       "<style scoped>\n",
       "    .dataframe tbody tr th:only-of-type {\n",
       "        vertical-align: middle;\n",
       "    }\n",
       "\n",
       "    .dataframe tbody tr th {\n",
       "        vertical-align: top;\n",
       "    }\n",
       "\n",
       "    .dataframe thead th {\n",
       "        text-align: right;\n",
       "    }\n",
       "</style>\n",
       "<table border=\"1\" class=\"dataframe\">\n",
       "  <thead>\n",
       "    <tr style=\"text-align: right;\">\n",
       "      <th></th>\n",
       "      <th>Player</th>\n",
       "      <th>Goals</th>\n",
       "      <th>Misses</th>\n",
       "    </tr>\n",
       "  </thead>\n",
       "  <tbody>\n",
       "    <tr>\n",
       "      <th>0</th>\n",
       "      <td>FrancoArmani</td>\n",
       "      <td>0.0</td>\n",
       "      <td>0.0</td>\n",
       "    </tr>\n",
       "    <tr>\n",
       "      <th>1</th>\n",
       "      <td>GeronimoRulli</td>\n",
       "      <td>0.0</td>\n",
       "      <td>0.0</td>\n",
       "    </tr>\n",
       "    <tr>\n",
       "      <th>2</th>\n",
       "      <td>EmilianoMartinez</td>\n",
       "      <td>0.0</td>\n",
       "      <td>0.0</td>\n",
       "    </tr>\n",
       "    <tr>\n",
       "      <th>3</th>\n",
       "      <td>JuanFoyth</td>\n",
       "      <td>0.0</td>\n",
       "      <td>0.0</td>\n",
       "    </tr>\n",
       "    <tr>\n",
       "      <th>4</th>\n",
       "      <td>NicolasTagliafico</td>\n",
       "      <td>0.0</td>\n",
       "      <td>0.0</td>\n",
       "    </tr>\n",
       "    <tr>\n",
       "      <th>5</th>\n",
       "      <td>GonzaloMontiel</td>\n",
       "      <td>5.0</td>\n",
       "      <td>0.0</td>\n",
       "    </tr>\n",
       "    <tr>\n",
       "      <th>6</th>\n",
       "      <td>GermanPezzella</td>\n",
       "      <td>0.0</td>\n",
       "      <td>0.0</td>\n",
       "    </tr>\n",
       "    <tr>\n",
       "      <th>7</th>\n",
       "      <td>MarcosAcuña</td>\n",
       "      <td>0.0</td>\n",
       "      <td>0.0</td>\n",
       "    </tr>\n",
       "    <tr>\n",
       "      <th>8</th>\n",
       "      <td>CristianRomero</td>\n",
       "      <td>0.0</td>\n",
       "      <td>0.0</td>\n",
       "    </tr>\n",
       "    <tr>\n",
       "      <th>9</th>\n",
       "      <td>NicolásOtamendi</td>\n",
       "      <td>0.0</td>\n",
       "      <td>0.0</td>\n",
       "    </tr>\n",
       "    <tr>\n",
       "      <th>10</th>\n",
       "      <td>LisandroMartínez</td>\n",
       "      <td>0.0</td>\n",
       "      <td>0.0</td>\n",
       "    </tr>\n",
       "    <tr>\n",
       "      <th>11</th>\n",
       "      <td>NahuelMolina</td>\n",
       "      <td>0.0</td>\n",
       "      <td>0.0</td>\n",
       "    </tr>\n",
       "    <tr>\n",
       "      <th>12</th>\n",
       "      <td>LeandroParedes</td>\n",
       "      <td>9.0</td>\n",
       "      <td>1.0</td>\n",
       "    </tr>\n",
       "    <tr>\n",
       "      <th>13</th>\n",
       "      <td>RodrigodePaul</td>\n",
       "      <td>10.0</td>\n",
       "      <td>3.0</td>\n",
       "    </tr>\n",
       "    <tr>\n",
       "      <th>14</th>\n",
       "      <td>ExequielPalacios</td>\n",
       "      <td>6.0</td>\n",
       "      <td>0.0</td>\n",
       "    </tr>\n",
       "    <tr>\n",
       "      <th>15</th>\n",
       "      <td>AlejandroGómez</td>\n",
       "      <td>6.0</td>\n",
       "      <td>4.0</td>\n",
       "    </tr>\n",
       "    <tr>\n",
       "      <th>16</th>\n",
       "      <td>GuidoRodriguez</td>\n",
       "      <td>0.0</td>\n",
       "      <td>0.0</td>\n",
       "    </tr>\n",
       "    <tr>\n",
       "      <th>17</th>\n",
       "      <td>AlexisMacAllister</td>\n",
       "      <td>12.0</td>\n",
       "      <td>1.0</td>\n",
       "    </tr>\n",
       "    <tr>\n",
       "      <th>18</th>\n",
       "      <td>EnzoFernandez</td>\n",
       "      <td>6.0</td>\n",
       "      <td>1.0</td>\n",
       "    </tr>\n",
       "    <tr>\n",
       "      <th>19</th>\n",
       "      <td>JuliánÁlvarez</td>\n",
       "      <td>7.0</td>\n",
       "      <td>1.0</td>\n",
       "    </tr>\n",
       "    <tr>\n",
       "      <th>20</th>\n",
       "      <td>LionelMessi</td>\n",
       "      <td>110.0</td>\n",
       "      <td>31.0</td>\n",
       "    </tr>\n",
       "    <tr>\n",
       "      <th>21</th>\n",
       "      <td>AngelDiMaría</td>\n",
       "      <td>11.0</td>\n",
       "      <td>5.0</td>\n",
       "    </tr>\n",
       "    <tr>\n",
       "      <th>22</th>\n",
       "      <td>ÁngelCorrea</td>\n",
       "      <td>1.0</td>\n",
       "      <td>1.0</td>\n",
       "    </tr>\n",
       "    <tr>\n",
       "      <th>23</th>\n",
       "      <td>ThiagoAlmada</td>\n",
       "      <td>13.0</td>\n",
       "      <td>6.0</td>\n",
       "    </tr>\n",
       "    <tr>\n",
       "      <th>24</th>\n",
       "      <td>PauloDybala</td>\n",
       "      <td>39.0</td>\n",
       "      <td>5.0</td>\n",
       "    </tr>\n",
       "    <tr>\n",
       "      <th>25</th>\n",
       "      <td>LautaroMartínez</td>\n",
       "      <td>16.0</td>\n",
       "      <td>8.0</td>\n",
       "    </tr>\n",
       "  </tbody>\n",
       "</table>\n",
       "</div>"
      ],
      "text/plain": [
       "               Player  Goals  Misses\n",
       "0        FrancoArmani    0.0     0.0\n",
       "1       GeronimoRulli    0.0     0.0\n",
       "2    EmilianoMartinez    0.0     0.0\n",
       "3           JuanFoyth    0.0     0.0\n",
       "4   NicolasTagliafico    0.0     0.0\n",
       "5      GonzaloMontiel    5.0     0.0\n",
       "6      GermanPezzella    0.0     0.0\n",
       "7         MarcosAcuña    0.0     0.0\n",
       "8      CristianRomero    0.0     0.0\n",
       "9     NicolásOtamendi    0.0     0.0\n",
       "10   LisandroMartínez    0.0     0.0\n",
       "11       NahuelMolina    0.0     0.0\n",
       "12     LeandroParedes    9.0     1.0\n",
       "13      RodrigodePaul   10.0     3.0\n",
       "14   ExequielPalacios    6.0     0.0\n",
       "15     AlejandroGómez    6.0     4.0\n",
       "16     GuidoRodriguez    0.0     0.0\n",
       "17  AlexisMacAllister   12.0     1.0\n",
       "18      EnzoFernandez    6.0     1.0\n",
       "19      JuliánÁlvarez    7.0     1.0\n",
       "20        LionelMessi  110.0    31.0\n",
       "21       AngelDiMaría   11.0     5.0\n",
       "22        ÁngelCorrea    1.0     1.0\n",
       "23       ThiagoAlmada   13.0     6.0\n",
       "24        PauloDybala   39.0     5.0\n",
       "25    LautaroMartínez   16.0     8.0"
      ]
     },
     "execution_count": 10,
     "metadata": {},
     "output_type": "execute_result"
    }
   ],
   "source": [
    "#Scrapeamos manualmente la base de trasnfermarkt para obtener la info\n",
    "df_arg = pd.DataFrame({\"Player\":[], \"Goals\":[], \"Misses\":[]})\n",
    "\n",
    "df_arg = pd.concat([df_arg] + [pd.DataFrame({\"Player\":[\"FrancoArmani\"], \"Goals\":[0], \"Misses\":[0]})], ignore_index=True) #https://www.transfermarkt.com/a/elfmetertore/spieler/119634\n",
    "df_arg = pd.concat([df_arg] + [pd.DataFrame({\"Player\":[\"GeronimoRulli\"], \"Goals\":[0], \"Misses\":[0]})], ignore_index=True) #https://www.transfermarkt.com/a/elfmetertore/spieler/229604\n",
    "df_arg = pd.concat([df_arg] + [pd.DataFrame({\"Player\":[\"EmilianoMartinez\"], \"Goals\":[0], \"Misses\":[0]})], ignore_index=True) #https://www.transfermarkt.com/a/elfmetertore/spieler/111873\n",
    "df_arg = pd.concat([df_arg] + [pd.DataFrame({\"Player\":[\"JuanFoyth\"], \"Goals\":[0], \"Misses\":[0]})], ignore_index=True) #https://www.transfermarkt.com/a/elfmetertore/spieler/480763\n",
    "df_arg = pd.concat([df_arg] + [pd.DataFrame({\"Player\":[\"NicolasTagliafico\"], \"Goals\":[0], \"Misses\":[0]})], ignore_index=True) #https://www.transfermarkt.com/a/elfmetertore/spieler/131225\n",
    "df_arg = pd.concat([df_arg] + [pd.DataFrame({\"Player\":[\"GonzaloMontiel\"], \"Goals\":[5], \"Misses\":[0]})], ignore_index=True) #https://www.transfermarkt.com/a/elfmetertore/spieler/402733\n",
    "df_arg = pd.concat([df_arg] + [pd.DataFrame({\"Player\":[\"GermanPezzella\"], \"Goals\":[0], \"Misses\":[0]})], ignore_index=True) #https://www.transfermarkt.com/a/elfmetertore/spieler/113133\n",
    "df_arg = pd.concat([df_arg] + [pd.DataFrame({\"Player\":[\"MarcosAcuña\"], \"Goals\":[0], \"Misses\":[0]})], ignore_index=True) #https://www.transfermarkt.com/a/elfmetertore/spieler/60410\n",
    "df_arg = pd.concat([df_arg] + [pd.DataFrame({\"Player\":[\"CristianRomero\"], \"Goals\":[0], \"Misses\":[0]})], ignore_index=True) #https://www.transfermarkt.com/a/elfmetertore/spieler/355915\n",
    "df_arg = pd.concat([df_arg] + [pd.DataFrame({\"Player\":[\"NicolásOtamendi\"], \"Goals\":[0], \"Misses\":[0]})], ignore_index=True) #https://www.transfermarkt.com/a/elfmetertore/spieler/54781\n",
    "df_arg = pd.concat([df_arg] + [pd.DataFrame({\"Player\":[\"LisandroMartínez\"], \"Goals\":[0], \"Misses\":[0]})], ignore_index=True) #https://www.transfermarkt.com/a/elfmetertore/spieler/480762\n",
    "df_arg = pd.concat([df_arg] + [pd.DataFrame({\"Player\":[\"NahuelMolina\"], \"Goals\":[0], \"Misses\":[0]})], ignore_index=True) #https://www.transfermarkt.com/a/elfmetertore/spieler/424042\n",
    "df_arg = pd.concat([df_arg] + [pd.DataFrame({\"Player\":[\"LeandroParedes\"], \"Goals\":[9], \"Misses\":[1]})], ignore_index=True) #https://www.transfermarkt.com/a/elfmetertore/spieler/166237\n",
    "df_arg = pd.concat([df_arg] + [pd.DataFrame({\"Player\":[\"RodrigodePaul\"], \"Goals\":[10], \"Misses\":[3]})], ignore_index=True) #https://www.transfermarkt.com/a/elfmetertore/spieler/255901\n",
    "df_arg = pd.concat([df_arg] + [pd.DataFrame({\"Player\":[\"ExequielPalacios\"], \"Goals\":[6], \"Misses\":[0]})], ignore_index=True) #https://www.transfermarkt.com/a/elfmetertore/spieler/401578\n",
    "df_arg = pd.concat([df_arg] + [pd.DataFrame({\"Player\":[\"AlejandroGómez\"], \"Goals\":[6], \"Misses\":[4]})], ignore_index=True) #https://www.transfermarkt.com/a/elfmetertore/spieler/20005\n",
    "df_arg = pd.concat([df_arg] + [pd.DataFrame({\"Player\":[\"GuidoRodriguez\"], \"Goals\":[0], \"Misses\":[0]})], ignore_index=True) #https://www.transfermarkt.com/a/elfmetertore/spieler/342385\n",
    "df_arg = pd.concat([df_arg] + [pd.DataFrame({\"Player\":[\"AlexisMacAllister\"], \"Goals\":[12], \"Misses\":[1]})], ignore_index=True) #https://www.transfermarkt.com/a/elfmetertore/spieler/534033\n",
    "df_arg = pd.concat([df_arg] + [pd.DataFrame({\"Player\":[\"EnzoFernandez\"], \"Goals\":[6], \"Misses\":[1]})], ignore_index=True) #https://www.transfermarkt.com/a/elfmetertore/spieler/648195\n",
    "df_arg = pd.concat([df_arg] + [pd.DataFrame({\"Player\":[\"JuliánÁlvarez\"], \"Goals\":[7], \"Misses\":[1]})], ignore_index=True) #https://www.transfermarkt.com/a/elfmetertore/spieler/576024\n",
    "df_arg = pd.concat([df_arg] + [pd.DataFrame({\"Player\":[\"LionelMessi\"], \"Goals\":[110], \"Misses\":[31]})], ignore_index=True) #https://www.transfermarkt.com/a/elfmetertore/spieler/28003\n",
    "df_arg = pd.concat([df_arg] + [pd.DataFrame({\"Player\":[\"AngelDiMaría\"], \"Goals\":[11], \"Misses\":[5]})], ignore_index=True) #https://www.transfermarkt.com/a/elfmetertore/spieler/45320\n",
    "df_arg = pd.concat([df_arg] + [pd.DataFrame({\"Player\":[\"ÁngelCorrea\"], \"Goals\":[1], \"Misses\":[1]})], ignore_index=True) #https://www.transfermarkt.com/a/elfmetertore/spieler/266807\n",
    "df_arg = pd.concat([df_arg] + [pd.DataFrame({\"Player\":[\"ThiagoAlmada\"], \"Goals\":[13], \"Misses\":[6]})], ignore_index=True) #https://www.transfermarkt.com/a/elfmetertore/spieler/576028\n",
    "df_arg = pd.concat([df_arg] + [pd.DataFrame({\"Player\":[\"PauloDybala\"], \"Goals\":[39], \"Misses\":[5]})], ignore_index=True) #https://www.transfermarkt.com/a/elfmetertore/spieler/206050\n",
    "df_arg = pd.concat([df_arg] + [pd.DataFrame({\"Player\":[\"LautaroMartínez\"], \"Goals\":[16], \"Misses\":[8]})], ignore_index=True) #https://www.transfermarkt.com/a/elfmetertore/spieler/406625\n",
    "\n",
    "df_arg"
   ]
  },
  {
   "cell_type": "code",
   "execution_count": 14,
   "metadata": {},
   "outputs": [
    {
     "data": {
      "image/png": "[encoded data removed]",
      "text/plain": [
       "<Figure size 640x480 with 1 Axes>"
      ]
     },
     "metadata": {},
     "output_type": "display_data"
    }
   ],
   "source": [
    "#Para la simplicidad del analisis vamos a filtrar todos los jugadores que no patearon penales, aunque estaria bueno ver que tanto empeora en el resultado final\n",
    "\n",
    "df_arg = df_arg[(df_arg.Goals != 0) | (df_arg.Misses != 0)]\n",
    "df_arg['GoalRatio'] = df_arg['Goals'] / (df_arg['Goals'] + df_arg['Misses'])\n",
    "\n",
    "plt.plot()\n",
    "plt.hist(df_arg['GoalRatio'])\n",
    "plt.show()"
   ]
  },
  {
   "cell_type": "code",
   "execution_count": null,
   "metadata": {},
   "outputs": [],
   "source": [
    "# Prior Campeones del mundo\n",
    "df_arg = pd.DataFrame({\"Player\":[], \"Goals\":[], \"Misses\":[], \"GoalRatio\":[]})\n",
    "\n",
    "df_arg = df_arg.append({\"Player\":\"FrancoArmani\", \"Goals\":0, \"Misses\":0, \"GoalRatio\":0}, ignore_index=True)\n",
    "\n",
    "naive_prior_alpha = 13\n",
    "naive_prior_beta = 4\n",
    "\n",
    "naive_post_alpha = naive_prior_alpha + montiel_penalty_goals\n",
    "naive_post_alpha = naive_prior_beta + montiel_penalty_misses"
   ]
  },
  {
   "cell_type": "markdown",
   "metadata": {},
   "source": [
    "### b) ¿Cual es la probabilidad de que convierta el penal número 13? ¿Cómo se compara con la estimación frecuentista?"
   ]
  },
  {
   "cell_type": "markdown",
   "metadata": {},
   "source": [
    "Vamos a buscar la probabilidad de que Montiel convierta el penal numero 13."
   ]
  },
  {
   "cell_type": "code",
   "execution_count": 10,
   "metadata": {},
   "outputs": [
    {
     "name": "stdout",
     "output_type": "stream",
     "text": [
      "Promedio 0.9260518111532569\n",
      "Esperanza 0.9285714285714286\n"
     ]
    },
    {
     "data": {
      "image/png": "[encoded data removed]",
      "text/plain": [
       "<Figure size 640x480 with 1 Axes>"
      ]
     },
     "metadata": {},
     "output_type": "display_data"
    }
   ],
   "source": [
    "# Generamos unos titas randoms.\n",
    "# A partir de esos titas simulamos la cantidad de goles hechos.\n",
    "# Estos goles los guardamos en \"tiros\".\n",
    "tiros = np.array([])\n",
    "for i in range(1,10000):\n",
    "    tita = np.random.beta(25, 2)\n",
    "    tiros = np.append(tiros, tita)\n",
    "\n",
    "\n",
    "# Calculamos la mediana y el promedio de \"tiros\" \n",
    "mean= np.mean(tiros)\n",
    "print(\"Promedio\", mean)\n",
    "print(\"Esperanza\", 13 / (13+1))     # E = alpha / alpha + beta \n",
    "fig, ax = plt.subplots(1)\n",
    "ax.hist(tiros, bins = 20)\n",
    "ax.set_xlim(0,1)\n",
    "ax.axvline(13 / (13+1), color =\"red\", label = \"Esperanza\")\n",
    "ax.axvline(mean, color = \"green\", linestyle = \"-\", label = \"Promedio\")\n",
    "ax.legend()\n",
    "plt.show()"
   ]
  },
  {
   "cell_type": "markdown",
   "metadata": {},
   "source": [
    "- Segun los Bayesianos, tenemos un 92.6% de probabilidades de ver a Montiel meter el 13vo tiro.\n",
    "\n",
    "- Mientras que los frecuentistas dirian que es el 100%."
   ]
  },
  {
   "cell_type": "markdown",
   "metadata": {},
   "source": [
    "### c)  ¿Qué supuestos estamos haciendo sobre el proceso que generó los datos?"
   ]
  },
  {
   "cell_type": "markdown",
   "metadata": {},
   "source": [
    "- Estamos tomando por sentado muchas cosas que deberian influir en su precision, (arquero, pelota, etc).\n",
    "- Estamos asumiendo que nadie mete el 100% de los tiros.\n"
   ]
  },
  {
   "cell_type": "markdown",
   "metadata": {},
   "source": [
    "### d)  Haciendo simulaciones, crear un histograma de la distribución predicha de penales convertidos en los próximos 10 penales que ejecute Montiel (posterior predictive distribution)."
   ]
  },
  {
   "cell_type": "code",
   "execution_count": 8,
   "metadata": {},
   "outputs": [
    {
     "name": "stdout",
     "output_type": "stream",
     "text": [
      "Nuestor array de tiros metidos: [10. 10. 10. ... 10. 10. 10.]\n",
      "Promedio predicho: 9.251325132513252\n"
     ]
    },
    {
     "data": {
      "image/png": "[encoded data removed]",
      "text/plain": [
       "<Figure size 640x480 with 1 Axes>"
      ]
     },
     "metadata": {},
     "output_type": "display_data"
    }
   ],
   "source": [
    "# Vamos a simular este experimento 10mil veces:\n",
    "tiros_predichos = np.array([])\n",
    "for i in range(1,10000):\n",
    "    # Generamos aleatoriamente nuestro tita.\n",
    "    tita = np.random.beta(25, 2)\n",
    "\n",
    "    # Generamos aleatoriamente cuantos goles metió de los 10 tiros.\n",
    "    goles = np.random.binomial(10, tita)\n",
    "\n",
    "    # Guardamos los tiros en un array\n",
    "    tiros_predichos = np.append(tiros_predichos, goles)\n",
    "print(\"Nuestor array de tiros metidos:\", tiros_predichos)\n",
    "\n",
    "mean= np.mean(tiros_predichos)\n",
    "print(\"Promedio predicho:\", mean)\n",
    "fig, ax = plt.subplots(1)\n",
    "ax.hist(tiros_predichos, bins = 15)\n",
    "ax.axvline(mean, color = \"green\", label = \"Promedio\")\n",
    "ax.legend()\n",
    "plt.show()"
   ]
  },
  {
   "cell_type": "markdown",
   "metadata": {},
   "source": [
    "### e) Estimar la probabilidad de que Montiel meta al menos 8 de los próximos 10 penales que patee."
   ]
  },
  {
   "cell_type": "markdown",
   "metadata": {},
   "source": [
    "Teniendo el Histograma anterior, podriamos simplemente sumar los casos en que Montiel haya metido 8, 9 y 10 penales y dividirlos por la cantidad total de intentos. "
   ]
  },
  {
   "cell_type": "code",
   "execution_count": 18,
   "metadata": {},
   "outputs": [
    {
     "data": {
      "text/plain": [
       "0.9395939593959396"
      ]
     },
     "execution_count": 18,
     "metadata": {},
     "output_type": "execute_result"
    }
   ],
   "source": [
    "# Filtramos los casos en que Montiel haya metido >= 8 goles\n",
    "tiros_predichos_filtrados = [tiro for tiro in tiros_predichos if tiro >= 8]\n",
    "\n",
    "# Calculamos el promedio frecuentista de que meta >= 8 goles.\n",
    "len(tiros_predichos_filtrados) / len(tiros_predichos)"
   ]
  }
 ],
 "metadata": {
  "kernelspec": {
   "display_name": "Python 3",
   "language": "python",
   "name": "python3"
  },
  "language_info": {
   "codemirror_mode": {
    "name": "ipython",
    "version": 3
   },
   "file_extension": ".py",
   "mimetype": "text/x-python",
   "name": "python",
   "nbconvert_exporter": "python",
   "pygments_lexer": "ipython3",
   "version": "3.12.4"
  }
 },
 "nbformat": 4,
 "nbformat_minor": 2
}
