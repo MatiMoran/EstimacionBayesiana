{
 "cells": [
  {
   "cell_type": "markdown",
   "metadata": {},
   "source": [
    "# Inferencia Bayesiana Entrega 1: Maitas Moran LU 806/19"
   ]
  },
  {
   "cell_type": "markdown",
   "metadata": {},
   "source": [
    "## Guia 1 - Ejercicio 9\n",
    "El jugador Montiel convirtio los 12 penales que pateo al dia de la fecha en su carrera profesional\n",
    "\n",
    "a) Usando un prior beta de la probabilidad que tiene Montiel de convertir un penal, es decir $\\theta \\sim \\Beta(alpha, beta)$ encontrar la distribución posterior para $\\theta$ y graficarla (definir a gusto los parámetros alpha y beta de la distribución).\n",
    "\n",
    "b) ¿Cuál es la probabilidad de que convierta el penal número 13? ¿Cómo se compara con la\n",
    "estimación frecuentista?\n",
    "\n",
    "c) ¿Qué supuestos estamos haciendo sobre el proceso que generó los datos?\n",
    "\n",
    "d) Haciendo simulaciones, crear un histograma de la distribución predicha de penales convertidos\n",
    "en los próximos 10 penales que ejecute Montiel (posterior predictive distribution).\n",
    "\n",
    "e) Estimar la probabilidad de que Montiel meta al menos 8 de los próximos 10 penales que patee."
   ]
  },
  {
   "cell_type": "markdown",
   "metadata": {},
   "source": [
    "### Setup"
   ]
  },
  {
   "cell_type": "code",
   "execution_count": 104,
   "metadata": {},
   "outputs": [],
   "source": [
    "import numpy as np\n",
    "import pandas as pd\n",
    "import matplotlib.pyplot as plt\n",
    "from scipy.stats import beta\n",
    "from scipy.optimize import curve_fit"
   ]
  },
  {
   "cell_type": "markdown",
   "metadata": {},
   "source": [
    "### a) Usando un prior beta de la probabilidad que tiene Montiel de convertir un penal, es decir $\\theta \\sim \\Beta(alpha, beta)$ encontrar la distribución posterior para $\\theta$ y graficarla (definir a gusto los parámetros alpha y beta de la distribución).\n"
   ]
  },
  {
   "cell_type": "markdown",
   "metadata": {},
   "source": [
    "Para este ejericio vamos a usar 3 Priors para ver si contienen diferencias significatibas entre si y que resultados obtenemos de cada uno.\n",
    "\n",
    "- El primer Prior \"Naive\" Usamos como Prior $\\Beta(13, 4)$ porque nos parece una distribucion que modela bien la probabilidad de que un jugador convierta un penal en base a la intuicion de saber que es mas probable que un penal termine en gol contrario a que no lo haga\n",
    "\n",
    "- El segundo Prior va a ser una distribucion Beta en base a los datos historicos de penales de los 26 jugadores campeones del mundo en Qatar 2022 :argentina:\n",
    "\n",
    "- El tercer Prior va a ser una distribucion Beta en base a los datos historicos de penales de los 1599 jugadores registrados en las ligas europeas (LaLiga, Bundesliga, Serie A y Premier League) scrapeados de la pagina https://www.transfermarkt.com"
   ]
  },
  {
   "cell_type": "markdown",
   "metadata": {},
   "source": [
    "Para cada uno de estos prior queremos encontrar la distribucion posterior para $\\theta$\n",
    "\n",
    "Primero calculamos la Likehood de ver los datos de montiel asumiendo que cada penal se comporta como un experimento de bernoulli con probabilidad $\\theta$, es decir que cada penal tiene la misma probabilidad de terminar en gol y que es independiente del penal anterior (esto es un modelo simplista ya que implica que no depende del arquero, del contexto del partido, de lesiones de jugadores, etc)\n",
    "\n",
    "- $\\theta \\sim  \\Beta(\\alpha_{0}, \\beta_{0})$\n",
    "\n",
    "- $L(\\theta | datosMontiel) = P(12/12 | \\theta) = \\theta^{12}$\n",
    "- $Prior(\\theta) \\propto \\theta^{\\alpha_{0} - 1} \\cdot (1 - \\theta)^{\\beta_{0} - 1}$ \n",
    "\n",
    "\n",
    "\n",
    "Podemos calcular la *Post* para cada *Prior* como:\n",
    "\n",
    "- $Post(\\theta | datosMontiel) \\propto  L(\\theta | datosMontiel) \\cdot p(\\theta)$\n",
    "\n",
    "- $Post(\\theta | datosMontiel) \\propto \\theta^{12} \\cdot \\theta^{\\alpha_{0} - 1} \\cdot (1 - \\theta)^{\\beta_{0} - 1}$\n",
    "\n",
    "- $Post(\\theta | datosMontiel) \\propto \\theta^{\\alpha_{0} + 11} \\cdot (1 - \\theta)^{\\beta_{0} - 1}$\n",
    "\n",
    "- $Post(\\theta | datosMontiel) \\sim Beta(\\alpha_{0} + 12, \\beta_{0}) $\n",
    "\n"
   ]
  },
  {
   "cell_type": "code",
   "execution_count": 105,
   "metadata": {},
   "outputs": [],
   "source": [
    "montiel_penalty_goals = 12\n",
    "montiel_penalty_misses = 0\n",
    "\n",
    "# Prior naive\n",
    "naive_prior_alpha = 13\n",
    "naive_prior_beta = 4\n",
    "\n",
    "naive_post_alpha = naive_prior_alpha + montiel_penalty_goals\n",
    "naive_post_beta = naive_prior_beta + montiel_penalty_misses"
   ]
  },
  {
   "cell_type": "code",
   "execution_count": 106,
   "metadata": {},
   "outputs": [
    {
     "data": {
      "text/html": [
       "<div>\n",
       "<style scoped>\n",
       "    .dataframe tbody tr th:only-of-type {\n",
       "        vertical-align: middle;\n",
       "    }\n",
       "\n",
       "    .dataframe tbody tr th {\n",
       "        vertical-align: top;\n",
       "    }\n",
       "\n",
       "    .dataframe thead th {\n",
       "        text-align: right;\n",
       "    }\n",
       "</style>\n",
       "<table border=\"1\" class=\"dataframe\">\n",
       "  <thead>\n",
       "    <tr style=\"text-align: right;\">\n",
       "      <th></th>\n",
       "      <th>Player</th>\n",
       "      <th>Goals</th>\n",
       "      <th>Misses</th>\n",
       "      <th>GoalRatio</th>\n",
       "    </tr>\n",
       "  </thead>\n",
       "  <tbody>\n",
       "    <tr>\n",
       "      <th>5</th>\n",
       "      <td>GonzaloMontiel</td>\n",
       "      <td>5.0</td>\n",
       "      <td>0.0</td>\n",
       "      <td>1.000000</td>\n",
       "    </tr>\n",
       "    <tr>\n",
       "      <th>12</th>\n",
       "      <td>LeandroParedes</td>\n",
       "      <td>9.0</td>\n",
       "      <td>1.0</td>\n",
       "      <td>0.900000</td>\n",
       "    </tr>\n",
       "    <tr>\n",
       "      <th>13</th>\n",
       "      <td>RodrigodePaul</td>\n",
       "      <td>10.0</td>\n",
       "      <td>3.0</td>\n",
       "      <td>0.769231</td>\n",
       "    </tr>\n",
       "    <tr>\n",
       "      <th>14</th>\n",
       "      <td>ExequielPalacios</td>\n",
       "      <td>6.0</td>\n",
       "      <td>0.0</td>\n",
       "      <td>1.000000</td>\n",
       "    </tr>\n",
       "    <tr>\n",
       "      <th>15</th>\n",
       "      <td>AlejandroGómez</td>\n",
       "      <td>6.0</td>\n",
       "      <td>4.0</td>\n",
       "      <td>0.600000</td>\n",
       "    </tr>\n",
       "    <tr>\n",
       "      <th>17</th>\n",
       "      <td>AlexisMacAllister</td>\n",
       "      <td>12.0</td>\n",
       "      <td>1.0</td>\n",
       "      <td>0.923077</td>\n",
       "    </tr>\n",
       "    <tr>\n",
       "      <th>18</th>\n",
       "      <td>EnzoFernandez</td>\n",
       "      <td>6.0</td>\n",
       "      <td>1.0</td>\n",
       "      <td>0.857143</td>\n",
       "    </tr>\n",
       "    <tr>\n",
       "      <th>19</th>\n",
       "      <td>JuliánÁlvarez</td>\n",
       "      <td>7.0</td>\n",
       "      <td>1.0</td>\n",
       "      <td>0.875000</td>\n",
       "    </tr>\n",
       "    <tr>\n",
       "      <th>20</th>\n",
       "      <td>LionelMessi</td>\n",
       "      <td>110.0</td>\n",
       "      <td>31.0</td>\n",
       "      <td>0.780142</td>\n",
       "    </tr>\n",
       "    <tr>\n",
       "      <th>21</th>\n",
       "      <td>AngelDiMaría</td>\n",
       "      <td>11.0</td>\n",
       "      <td>5.0</td>\n",
       "      <td>0.687500</td>\n",
       "    </tr>\n",
       "    <tr>\n",
       "      <th>22</th>\n",
       "      <td>ÁngelCorrea</td>\n",
       "      <td>1.0</td>\n",
       "      <td>1.0</td>\n",
       "      <td>0.500000</td>\n",
       "    </tr>\n",
       "    <tr>\n",
       "      <th>23</th>\n",
       "      <td>ThiagoAlmada</td>\n",
       "      <td>13.0</td>\n",
       "      <td>6.0</td>\n",
       "      <td>0.684211</td>\n",
       "    </tr>\n",
       "    <tr>\n",
       "      <th>24</th>\n",
       "      <td>PauloDybala</td>\n",
       "      <td>39.0</td>\n",
       "      <td>5.0</td>\n",
       "      <td>0.886364</td>\n",
       "    </tr>\n",
       "    <tr>\n",
       "      <th>25</th>\n",
       "      <td>LautaroMartínez</td>\n",
       "      <td>16.0</td>\n",
       "      <td>8.0</td>\n",
       "      <td>0.666667</td>\n",
       "    </tr>\n",
       "  </tbody>\n",
       "</table>\n",
       "</div>"
      ],
      "text/plain": [
       "               Player  Goals  Misses  GoalRatio\n",
       "5      GonzaloMontiel    5.0     0.0   1.000000\n",
       "12     LeandroParedes    9.0     1.0   0.900000\n",
       "13      RodrigodePaul   10.0     3.0   0.769231\n",
       "14   ExequielPalacios    6.0     0.0   1.000000\n",
       "15     AlejandroGómez    6.0     4.0   0.600000\n",
       "17  AlexisMacAllister   12.0     1.0   0.923077\n",
       "18      EnzoFernandez    6.0     1.0   0.857143\n",
       "19      JuliánÁlvarez    7.0     1.0   0.875000\n",
       "20        LionelMessi  110.0    31.0   0.780142\n",
       "21       AngelDiMaría   11.0     5.0   0.687500\n",
       "22        ÁngelCorrea    1.0     1.0   0.500000\n",
       "23       ThiagoAlmada   13.0     6.0   0.684211\n",
       "24        PauloDybala   39.0     5.0   0.886364\n",
       "25    LautaroMartínez   16.0     8.0   0.666667"
      ]
     },
     "execution_count": 106,
     "metadata": {},
     "output_type": "execute_result"
    }
   ],
   "source": [
    "#Scrapeamos manualmente la base de trasnfermarkt para obtener la info\n",
    "df_arg = pd.DataFrame({\"Player\":[], \"Goals\":[], \"Misses\":[]})\n",
    "\n",
    "df_arg = pd.concat([df_arg] + [pd.DataFrame({\"Player\":[\"FrancoArmani\"], \"Goals\":[0], \"Misses\":[0]})], ignore_index=True) #https://www.transfermarkt.com/a/elfmetertore/spieler/119634\n",
    "df_arg = pd.concat([df_arg] + [pd.DataFrame({\"Player\":[\"GeronimoRulli\"], \"Goals\":[0], \"Misses\":[0]})], ignore_index=True) #https://www.transfermarkt.com/a/elfmetertore/spieler/229604\n",
    "df_arg = pd.concat([df_arg] + [pd.DataFrame({\"Player\":[\"EmilianoMartinez\"], \"Goals\":[0], \"Misses\":[0]})], ignore_index=True) #https://www.transfermarkt.com/a/elfmetertore/spieler/111873\n",
    "df_arg = pd.concat([df_arg] + [pd.DataFrame({\"Player\":[\"JuanFoyth\"], \"Goals\":[0], \"Misses\":[0]})], ignore_index=True) #https://www.transfermarkt.com/a/elfmetertore/spieler/480763\n",
    "df_arg = pd.concat([df_arg] + [pd.DataFrame({\"Player\":[\"NicolasTagliafico\"], \"Goals\":[0], \"Misses\":[0]})], ignore_index=True) #https://www.transfermarkt.com/a/elfmetertore/spieler/131225\n",
    "df_arg = pd.concat([df_arg] + [pd.DataFrame({\"Player\":[\"GonzaloMontiel\"], \"Goals\":[5], \"Misses\":[0]})], ignore_index=True) #https://www.transfermarkt.com/a/elfmetertore/spieler/402733\n",
    "df_arg = pd.concat([df_arg] + [pd.DataFrame({\"Player\":[\"GermanPezzella\"], \"Goals\":[0], \"Misses\":[0]})], ignore_index=True) #https://www.transfermarkt.com/a/elfmetertore/spieler/113133\n",
    "df_arg = pd.concat([df_arg] + [pd.DataFrame({\"Player\":[\"MarcosAcuña\"], \"Goals\":[0], \"Misses\":[0]})], ignore_index=True) #https://www.transfermarkt.com/a/elfmetertore/spieler/60410\n",
    "df_arg = pd.concat([df_arg] + [pd.DataFrame({\"Player\":[\"CristianRomero\"], \"Goals\":[0], \"Misses\":[0]})], ignore_index=True) #https://www.transfermarkt.com/a/elfmetertore/spieler/355915\n",
    "df_arg = pd.concat([df_arg] + [pd.DataFrame({\"Player\":[\"NicolásOtamendi\"], \"Goals\":[0], \"Misses\":[0]})], ignore_index=True) #https://www.transfermarkt.com/a/elfmetertore/spieler/54781\n",
    "df_arg = pd.concat([df_arg] + [pd.DataFrame({\"Player\":[\"LisandroMartínez\"], \"Goals\":[0], \"Misses\":[0]})], ignore_index=True) #https://www.transfermarkt.com/a/elfmetertore/spieler/480762\n",
    "df_arg = pd.concat([df_arg] + [pd.DataFrame({\"Player\":[\"NahuelMolina\"], \"Goals\":[0], \"Misses\":[0]})], ignore_index=True) #https://www.transfermarkt.com/a/elfmetertore/spieler/424042\n",
    "df_arg = pd.concat([df_arg] + [pd.DataFrame({\"Player\":[\"LeandroParedes\"], \"Goals\":[9], \"Misses\":[1]})], ignore_index=True) #https://www.transfermarkt.com/a/elfmetertore/spieler/166237\n",
    "df_arg = pd.concat([df_arg] + [pd.DataFrame({\"Player\":[\"RodrigodePaul\"], \"Goals\":[10], \"Misses\":[3]})], ignore_index=True) #https://www.transfermarkt.com/a/elfmetertore/spieler/255901\n",
    "df_arg = pd.concat([df_arg] + [pd.DataFrame({\"Player\":[\"ExequielPalacios\"], \"Goals\":[6], \"Misses\":[0]})], ignore_index=True) #https://www.transfermarkt.com/a/elfmetertore/spieler/401578\n",
    "df_arg = pd.concat([df_arg] + [pd.DataFrame({\"Player\":[\"AlejandroGómez\"], \"Goals\":[6], \"Misses\":[4]})], ignore_index=True) #https://www.transfermarkt.com/a/elfmetertore/spieler/20005\n",
    "df_arg = pd.concat([df_arg] + [pd.DataFrame({\"Player\":[\"GuidoRodriguez\"], \"Goals\":[0], \"Misses\":[0]})], ignore_index=True) #https://www.transfermarkt.com/a/elfmetertore/spieler/342385\n",
    "df_arg = pd.concat([df_arg] + [pd.DataFrame({\"Player\":[\"AlexisMacAllister\"], \"Goals\":[12], \"Misses\":[1]})], ignore_index=True) #https://www.transfermarkt.com/a/elfmetertore/spieler/534033\n",
    "df_arg = pd.concat([df_arg] + [pd.DataFrame({\"Player\":[\"EnzoFernandez\"], \"Goals\":[6], \"Misses\":[1]})], ignore_index=True) #https://www.transfermarkt.com/a/elfmetertore/spieler/648195\n",
    "df_arg = pd.concat([df_arg] + [pd.DataFrame({\"Player\":[\"JuliánÁlvarez\"], \"Goals\":[7], \"Misses\":[1]})], ignore_index=True) #https://www.transfermarkt.com/a/elfmetertore/spieler/576024\n",
    "df_arg = pd.concat([df_arg] + [pd.DataFrame({\"Player\":[\"LionelMessi\"], \"Goals\":[110], \"Misses\":[31]})], ignore_index=True) #https://www.transfermarkt.com/a/elfmetertore/spieler/28003\n",
    "df_arg = pd.concat([df_arg] + [pd.DataFrame({\"Player\":[\"AngelDiMaría\"], \"Goals\":[11], \"Misses\":[5]})], ignore_index=True) #https://www.transfermarkt.com/a/elfmetertore/spieler/45320\n",
    "df_arg = pd.concat([df_arg] + [pd.DataFrame({\"Player\":[\"ÁngelCorrea\"], \"Goals\":[1], \"Misses\":[1]})], ignore_index=True) #https://www.transfermarkt.com/a/elfmetertore/spieler/266807\n",
    "df_arg = pd.concat([df_arg] + [pd.DataFrame({\"Player\":[\"ThiagoAlmada\"], \"Goals\":[13], \"Misses\":[6]})], ignore_index=True) #https://www.transfermarkt.com/a/elfmetertore/spieler/576028\n",
    "df_arg = pd.concat([df_arg] + [pd.DataFrame({\"Player\":[\"PauloDybala\"], \"Goals\":[39], \"Misses\":[5]})], ignore_index=True) #https://www.transfermarkt.com/a/elfmetertore/spieler/206050\n",
    "df_arg = pd.concat([df_arg] + [pd.DataFrame({\"Player\":[\"LautaroMartínez\"], \"Goals\":[16], \"Misses\":[8]})], ignore_index=True) #https://www.transfermarkt.com/a/elfmetertore/spieler/406625\n",
    "\n",
    "#Para la simplicidad del analisis vamos a filtrar todos los jugadores que no patearon penales, aunque estaria bueno ver que tanto empeora en el resultado final\n",
    "df_arg = df_arg[(df_arg.Goals != 0) | (df_arg.Misses != 0)]\n",
    "df_arg['GoalRatio'] = df_arg['Goals'] / (df_arg['Goals'] + df_arg['Misses'])\n",
    "df_arg"
   ]
  },
  {
   "cell_type": "code",
   "execution_count": 108,
   "metadata": {},
   "outputs": [
    {
     "name": "stdout",
     "output_type": "stream",
     "text": [
      "Best-fit parameters: a = 0.96, b = 0.47\n"
     ]
    },
    {
     "data": {
      "image/png": "[encoded data removed]",
      "text/plain": [
       "<Figure size 640x480 with 1 Axes>"
      ]
     },
     "metadata": {},
     "output_type": "display_data"
    }
   ],
   "source": [
    "\n",
    "\n",
    "hist, bin_edges = np.histogram(df_arg['GoalRatio'], bins=np.unique(df_arg['GoalRatio']))\n",
    "alpha_0, beta_0 = fit_beta_distribution(bin_edges[:-1], hist)\n",
    "\n",
    "x = np.linspace(0, 1, 100)\n",
    "y = beta_pdf(x, alpha_0, beta_0)\n",
    "plt.hist(df_arg['GoalRatio'], label='histograma de GoalRatio', bins=20, density=True)\n",
    "plt.plot(x, y, 'r-', label='Best-fit Beta: B({:.2f}, {:.2f})'.format(alpha_0, beta_0))\n",
    "plt.legend()\n",
    "plt.xlim(-0.05, 1.05)\n",
    "plt.show()"
   ]
  },
  {
   "cell_type": "code",
   "execution_count": 109,
   "metadata": {},
   "outputs": [
    {
     "name": "stdout",
     "output_type": "stream",
     "text": [
      "Number of players in the dataset: 1559\n"
     ]
    },
    {
     "data": {
      "text/html": [
       "<div>\n",
       "<style scoped>\n",
       "    .dataframe tbody tr th:only-of-type {\n",
       "        vertical-align: middle;\n",
       "    }\n",
       "\n",
       "    .dataframe tbody tr th {\n",
       "        vertical-align: top;\n",
       "    }\n",
       "\n",
       "    .dataframe thead th {\n",
       "        text-align: right;\n",
       "    }\n",
       "</style>\n",
       "<table border=\"1\" class=\"dataframe\">\n",
       "  <thead>\n",
       "    <tr style=\"text-align: right;\">\n",
       "      <th></th>\n",
       "      <th>Name</th>\n",
       "      <th>Goals</th>\n",
       "      <th>Misses</th>\n",
       "    </tr>\n",
       "  </thead>\n",
       "  <tbody>\n",
       "    <tr>\n",
       "      <th>0</th>\n",
       "      <td>ScottTwine</td>\n",
       "      <td>1</td>\n",
       "      <td>1</td>\n",
       "    </tr>\n",
       "    <tr>\n",
       "      <th>1</th>\n",
       "      <td>JuniorAjayi</td>\n",
       "      <td>0</td>\n",
       "      <td>0</td>\n",
       "    </tr>\n",
       "    <tr>\n",
       "      <th>2</th>\n",
       "      <td>BeñatTurrientes</td>\n",
       "      <td>0</td>\n",
       "      <td>0</td>\n",
       "    </tr>\n",
       "    <tr>\n",
       "      <th>3</th>\n",
       "      <td>AndrewMoran</td>\n",
       "      <td>0</td>\n",
       "      <td>1</td>\n",
       "    </tr>\n",
       "    <tr>\n",
       "      <th>4</th>\n",
       "      <td>ChrisRamos</td>\n",
       "      <td>0</td>\n",
       "      <td>0</td>\n",
       "    </tr>\n",
       "    <tr>\n",
       "      <th>...</th>\n",
       "      <td>...</td>\n",
       "      <td>...</td>\n",
       "      <td>...</td>\n",
       "    </tr>\n",
       "    <tr>\n",
       "      <th>1554</th>\n",
       "      <td>Juanmi</td>\n",
       "      <td>0</td>\n",
       "      <td>0</td>\n",
       "    </tr>\n",
       "    <tr>\n",
       "      <th>1555</th>\n",
       "      <td>IñigoRuiz de Galarreta</td>\n",
       "      <td>0</td>\n",
       "      <td>0</td>\n",
       "    </tr>\n",
       "    <tr>\n",
       "      <th>1556</th>\n",
       "      <td>CédricBakambu</td>\n",
       "      <td>17</td>\n",
       "      <td>1</td>\n",
       "    </tr>\n",
       "    <tr>\n",
       "      <th>1557</th>\n",
       "      <td>AbdoulayeDoucouré</td>\n",
       "      <td>1</td>\n",
       "      <td>0</td>\n",
       "    </tr>\n",
       "    <tr>\n",
       "      <th>1558</th>\n",
       "      <td>Luis Alberto</td>\n",
       "      <td>5</td>\n",
       "      <td>3</td>\n",
       "    </tr>\n",
       "  </tbody>\n",
       "</table>\n",
       "<p>1559 rows × 3 columns</p>\n",
       "</div>"
      ],
      "text/plain": [
       "                        Name  Goals  Misses\n",
       "0                 ScottTwine      1       1\n",
       "1                JuniorAjayi      0       0\n",
       "2            BeñatTurrientes      0       0\n",
       "3                AndrewMoran      0       1\n",
       "4                 ChrisRamos      0       0\n",
       "...                      ...    ...     ...\n",
       "1554                  Juanmi      0       0\n",
       "1555  IñigoRuiz de Galarreta      0       0\n",
       "1556           CédricBakambu     17       1\n",
       "1557       AbdoulayeDoucouré      1       0\n",
       "1558            Luis Alberto      5       3\n",
       "\n",
       "[1559 rows x 3 columns]"
      ]
     },
     "execution_count": 109,
     "metadata": {},
     "output_type": "execute_result"
    }
   ],
   "source": [
    "#Scrapeamos manualmente la base de trasnfermarkt para obtener la info\n",
    "df_europe = pd.read_csv('players_penalties.csv')\n",
    "\n",
    "print('Number of players in the dataset:', len(df_europe))\n",
    "df_europe"
   ]
  },
  {
   "cell_type": "code",
   "execution_count": 110,
   "metadata": {},
   "outputs": [
    {
     "name": "stderr",
     "output_type": "stream",
     "text": [
      "/tmp/ipykernel_760087/3358776130.py:5: SettingWithCopyWarning: \n",
      "A value is trying to be set on a copy of a slice from a DataFrame.\n",
      "Try using .loc[row_indexer,col_indexer] = value instead\n",
      "\n",
      "See the caveats in the documentation: https://pandas.pydata.org/pandas-docs/stable/user_guide/indexing.html#returning-a-view-versus-a-copy\n",
      "  df_europe['GoalRatio'] = df_europe['Goals'] / (df_europe['Goals'] + df_europe['Misses'])\n"
     ]
    },
    {
     "data": {
      "text/html": [
       "<div>\n",
       "<style scoped>\n",
       "    .dataframe tbody tr th:only-of-type {\n",
       "        vertical-align: middle;\n",
       "    }\n",
       "\n",
       "    .dataframe tbody tr th {\n",
       "        vertical-align: top;\n",
       "    }\n",
       "\n",
       "    .dataframe thead th {\n",
       "        text-align: right;\n",
       "    }\n",
       "</style>\n",
       "<table border=\"1\" class=\"dataframe\">\n",
       "  <thead>\n",
       "    <tr style=\"text-align: right;\">\n",
       "      <th></th>\n",
       "      <th>Name</th>\n",
       "      <th>Goals</th>\n",
       "      <th>Misses</th>\n",
       "      <th>GoalRatio</th>\n",
       "    </tr>\n",
       "  </thead>\n",
       "  <tbody>\n",
       "    <tr>\n",
       "      <th>5</th>\n",
       "      <td>ÁlvaroMorata</td>\n",
       "      <td>14</td>\n",
       "      <td>4</td>\n",
       "      <td>0.777778</td>\n",
       "    </tr>\n",
       "    <tr>\n",
       "      <th>16</th>\n",
       "      <td>Jordan</td>\n",
       "      <td>10</td>\n",
       "      <td>3</td>\n",
       "      <td>0.769231</td>\n",
       "    </tr>\n",
       "    <tr>\n",
       "      <th>17</th>\n",
       "      <td>NikolaVlašić</td>\n",
       "      <td>9</td>\n",
       "      <td>5</td>\n",
       "      <td>0.642857</td>\n",
       "    </tr>\n",
       "    <tr>\n",
       "      <th>18</th>\n",
       "      <td>JamesMilner</td>\n",
       "      <td>30</td>\n",
       "      <td>5</td>\n",
       "      <td>0.857143</td>\n",
       "    </tr>\n",
       "    <tr>\n",
       "      <th>20</th>\n",
       "      <td>RomanYaremchuk</td>\n",
       "      <td>6</td>\n",
       "      <td>5</td>\n",
       "      <td>0.545455</td>\n",
       "    </tr>\n",
       "    <tr>\n",
       "      <th>...</th>\n",
       "      <td>...</td>\n",
       "      <td>...</td>\n",
       "      <td>...</td>\n",
       "      <td>...</td>\n",
       "    </tr>\n",
       "    <tr>\n",
       "      <th>1546</th>\n",
       "      <td>NealMaupay</td>\n",
       "      <td>12</td>\n",
       "      <td>3</td>\n",
       "      <td>0.800000</td>\n",
       "    </tr>\n",
       "    <tr>\n",
       "      <th>1550</th>\n",
       "      <td>LukeBerry</td>\n",
       "      <td>9</td>\n",
       "      <td>4</td>\n",
       "      <td>0.692308</td>\n",
       "    </tr>\n",
       "    <tr>\n",
       "      <th>1551</th>\n",
       "      <td>AntoineGriezmann</td>\n",
       "      <td>24</td>\n",
       "      <td>13</td>\n",
       "      <td>0.648649</td>\n",
       "    </tr>\n",
       "    <tr>\n",
       "      <th>1552</th>\n",
       "      <td>HakanÇalhanoğlu</td>\n",
       "      <td>41</td>\n",
       "      <td>4</td>\n",
       "      <td>0.911111</td>\n",
       "    </tr>\n",
       "    <tr>\n",
       "      <th>1556</th>\n",
       "      <td>CédricBakambu</td>\n",
       "      <td>17</td>\n",
       "      <td>1</td>\n",
       "      <td>0.944444</td>\n",
       "    </tr>\n",
       "  </tbody>\n",
       "</table>\n",
       "<p>232 rows × 4 columns</p>\n",
       "</div>"
      ],
      "text/plain": [
       "                  Name  Goals  Misses  GoalRatio\n",
       "5         ÁlvaroMorata     14       4   0.777778\n",
       "16              Jordan     10       3   0.769231\n",
       "17        NikolaVlašić      9       5   0.642857\n",
       "18         JamesMilner     30       5   0.857143\n",
       "20      RomanYaremchuk      6       5   0.545455\n",
       "...                ...    ...     ...        ...\n",
       "1546        NealMaupay     12       3   0.800000\n",
       "1550         LukeBerry      9       4   0.692308\n",
       "1551  AntoineGriezmann     24      13   0.648649\n",
       "1552   HakanÇalhanoğlu     41       4   0.911111\n",
       "1556     CédricBakambu     17       1   0.944444\n",
       "\n",
       "[232 rows x 4 columns]"
      ]
     },
     "execution_count": 110,
     "metadata": {},
     "output_type": "execute_result"
    }
   ],
   "source": [
    "# Para la simplicidad del analisis vamos a filtrar todos los jugadores con menos de 10 penales pateados.\n",
    "# aunque estaria bueno ver que tanto empeora en el resultado final\n",
    "\n",
    "df_europe = df_europe[(df_europe[\"Goals\"] + df_europe[\"Misses\"]) > 10]\n",
    "df_europe['GoalRatio'] = df_europe['Goals'] / (df_europe['Goals'] + df_europe['Misses'])\n",
    "df_europe"
   ]
  },
  {
   "cell_type": "code",
   "execution_count": 111,
   "metadata": {},
   "outputs": [
    {
     "data": {
      "image/png": "[encoded data removed]",
      "text/plain": [
       "<Figure size 640x480 with 1 Axes>"
      ]
     },
     "metadata": {},
     "output_type": "display_data"
    }
   ],
   "source": [
    "plt.plot()\n",
    "plt.hist(df_europe['GoalRatio'], label='histograma de GoalRatio', bins=30)\n",
    "plt.legend()\n",
    "plt.xlim(-0.05, 1.05)\n",
    "plt.show()"
   ]
  },
  {
   "cell_type": "code",
   "execution_count": 112,
   "metadata": {},
   "outputs": [
    {
     "name": "stdout",
     "output_type": "stream",
     "text": [
      "Best-fit parameters: a = 4.45, b = 1.36\n"
     ]
    },
    {
     "data": {
      "image/png": "[encoded data removed]",
      "text/plain": [
       "<Figure size 640x480 with 1 Axes>"
      ]
     },
     "metadata": {},
     "output_type": "display_data"
    }
   ],
   "source": [
    "\n",
    "def beta_pdf(x, a, b):\n",
    "    return beta.pdf(x, a, b)\n",
    "\n",
    "def fit_beta_distribution(x, y):\n",
    "    popt, pcov = curve_fit(beta_pdf, x, y)\n",
    "    return popt[0], popt[1]\n",
    "\n",
    "\n",
    "hist, bin_edges = np.histogram(df_europe['GoalRatio'], bins=np.unique(df_europe['GoalRatio']))\n",
    "alpha_0, beta_0 = fit_beta_distribution(bin_edges[:-1], hist)\n",
    "\n",
    "x = np.linspace(0, 1, 100)\n",
    "y = beta_pdf(x, alpha_0, beta_0)\n",
    "plt.hist(df_europe['GoalRatio'], label='histograma de GoalRatio', bins=30, density=True)\n",
    "plt.plot(x, y, 'r-', label='Best-fit Beta: B({:.2f}, {:.2f})'.format(alpha_0, beta_0))\n",
    "plt.legend()\n",
    "plt.xlim(-0.05, 1.05)\n",
    "plt.show()"
   ]
  },
  {
   "cell_type": "code",
   "execution_count": 113,
   "metadata": {},
   "outputs": [
    {
     "ename": "AttributeError",
     "evalue": "'DataFrame' object has no attribute 'append'",
     "output_type": "error",
     "traceback": [
      "\u001b[0;31m---------------------------------------------------------------------------\u001b[0m",
      "\u001b[0;31mAttributeError\u001b[0m                            Traceback (most recent call last)",
      "\u001b[0;32m/tmp/ipykernel_760087/584367372.py\u001b[0m in \u001b[0;36m?\u001b[0;34m()\u001b[0m\n\u001b[1;32m      1\u001b[0m \u001b[0;31m# Prior Campeones del mundo\u001b[0m\u001b[0;34m\u001b[0m\u001b[0;34m\u001b[0m\u001b[0m\n\u001b[1;32m      2\u001b[0m \u001b[0mdf_arg\u001b[0m \u001b[0;34m=\u001b[0m \u001b[0mpd\u001b[0m\u001b[0;34m.\u001b[0m\u001b[0mDataFrame\u001b[0m\u001b[0;34m(\u001b[0m\u001b[0;34m{\u001b[0m\u001b[0;34m\"Player\"\u001b[0m\u001b[0;34m:\u001b[0m\u001b[0;34m[\u001b[0m\u001b[0;34m]\u001b[0m\u001b[0;34m,\u001b[0m \u001b[0;34m\"Goals\"\u001b[0m\u001b[0;34m:\u001b[0m\u001b[0;34m[\u001b[0m\u001b[0;34m]\u001b[0m\u001b[0;34m,\u001b[0m \u001b[0;34m\"Misses\"\u001b[0m\u001b[0;34m:\u001b[0m\u001b[0;34m[\u001b[0m\u001b[0;34m]\u001b[0m\u001b[0;34m,\u001b[0m \u001b[0;34m\"GoalRatio\"\u001b[0m\u001b[0;34m:\u001b[0m\u001b[0;34m[\u001b[0m\u001b[0;34m]\u001b[0m\u001b[0;34m}\u001b[0m\u001b[0;34m)\u001b[0m\u001b[0;34m\u001b[0m\u001b[0;34m\u001b[0m\u001b[0m\n\u001b[1;32m      3\u001b[0m \u001b[0;34m\u001b[0m\u001b[0m\n\u001b[0;32m----> 4\u001b[0;31m \u001b[0mdf_arg\u001b[0m \u001b[0;34m=\u001b[0m \u001b[0mdf_arg\u001b[0m\u001b[0;34m.\u001b[0m\u001b[0mappend\u001b[0m\u001b[0;34m(\u001b[0m\u001b[0;34m{\u001b[0m\u001b[0;34m\"Player\"\u001b[0m\u001b[0;34m:\u001b[0m\u001b[0;34m\"FrancoArmani\"\u001b[0m\u001b[0;34m,\u001b[0m \u001b[0;34m\"Goals\"\u001b[0m\u001b[0;34m:\u001b[0m\u001b[0;36m0\u001b[0m\u001b[0;34m,\u001b[0m \u001b[0;34m\"Misses\"\u001b[0m\u001b[0;34m:\u001b[0m\u001b[0;36m0\u001b[0m\u001b[0;34m,\u001b[0m \u001b[0;34m\"GoalRatio\"\u001b[0m\u001b[0;34m:\u001b[0m\u001b[0;36m0\u001b[0m\u001b[0;34m}\u001b[0m\u001b[0;34m,\u001b[0m \u001b[0mignore_index\u001b[0m\u001b[0;34m=\u001b[0m\u001b[0;32mTrue\u001b[0m\u001b[0;34m)\u001b[0m\u001b[0;34m\u001b[0m\u001b[0;34m\u001b[0m\u001b[0m\n\u001b[0m\u001b[1;32m      5\u001b[0m \u001b[0;34m\u001b[0m\u001b[0m\n\u001b[1;32m      6\u001b[0m \u001b[0mnaive_prior_alpha\u001b[0m \u001b[0;34m=\u001b[0m \u001b[0;36m13\u001b[0m\u001b[0;34m\u001b[0m\u001b[0;34m\u001b[0m\u001b[0m\n\u001b[1;32m      7\u001b[0m \u001b[0mnaive_prior_beta\u001b[0m \u001b[0;34m=\u001b[0m \u001b[0;36m4\u001b[0m\u001b[0;34m\u001b[0m\u001b[0;34m\u001b[0m\u001b[0m\n",
      "\u001b[0;32m~/Database/files/Vault/files/Repos/UBA/EstimacionBayesiana/.venv/lib64/python3.12/site-packages/pandas/core/generic.py\u001b[0m in \u001b[0;36m?\u001b[0;34m(self, name)\u001b[0m\n\u001b[1;32m   6295\u001b[0m             \u001b[0;32mand\u001b[0m \u001b[0mname\u001b[0m \u001b[0;32mnot\u001b[0m \u001b[0;32min\u001b[0m \u001b[0mself\u001b[0m\u001b[0;34m.\u001b[0m\u001b[0m_accessors\u001b[0m\u001b[0;34m\u001b[0m\u001b[0;34m\u001b[0m\u001b[0m\n\u001b[1;32m   6296\u001b[0m             \u001b[0;32mand\u001b[0m \u001b[0mself\u001b[0m\u001b[0;34m.\u001b[0m\u001b[0m_info_axis\u001b[0m\u001b[0;34m.\u001b[0m\u001b[0m_can_hold_identifiers_and_holds_name\u001b[0m\u001b[0;34m(\u001b[0m\u001b[0mname\u001b[0m\u001b[0;34m)\u001b[0m\u001b[0;34m\u001b[0m\u001b[0;34m\u001b[0m\u001b[0m\n\u001b[1;32m   6297\u001b[0m         \u001b[0;34m)\u001b[0m\u001b[0;34m:\u001b[0m\u001b[0;34m\u001b[0m\u001b[0;34m\u001b[0m\u001b[0m\n\u001b[1;32m   6298\u001b[0m             \u001b[0;32mreturn\u001b[0m \u001b[0mself\u001b[0m\u001b[0;34m[\u001b[0m\u001b[0mname\u001b[0m\u001b[0;34m]\u001b[0m\u001b[0;34m\u001b[0m\u001b[0;34m\u001b[0m\u001b[0m\n\u001b[0;32m-> 6299\u001b[0;31m         \u001b[0;32mreturn\u001b[0m \u001b[0mobject\u001b[0m\u001b[0;34m.\u001b[0m\u001b[0m__getattribute__\u001b[0m\u001b[0;34m(\u001b[0m\u001b[0mself\u001b[0m\u001b[0;34m,\u001b[0m \u001b[0mname\u001b[0m\u001b[0;34m)\u001b[0m\u001b[0;34m\u001b[0m\u001b[0;34m\u001b[0m\u001b[0m\n\u001b[0m",
      "\u001b[0;31mAttributeError\u001b[0m: 'DataFrame' object has no attribute 'append'"
     ]
    }
   ],
   "source": [
    "# Prior Campeones del mundo\n",
    "df_arg = pd.DataFrame({\"Player\":[], \"Goals\":[], \"Misses\":[], \"GoalRatio\":[]})\n",
    "\n",
    "df_arg = df_arg.append({\"Player\":\"FrancoArmani\", \"Goals\":0, \"Misses\":0, \"GoalRatio\":0}, ignore_index=True)\n",
    "\n",
    "naive_prior_alpha = 13\n",
    "naive_prior_beta = 4\n",
    "\n",
    "naive_post_alpha = naive_prior_alpha + montiel_penalty_goals\n",
    "naive_post_alpha = naive_prior_beta + montiel_penalty_misses"
   ]
  },
  {
   "cell_type": "markdown",
   "metadata": {},
   "source": [
    "### b) ¿Cual es la probabilidad de que convierta el penal número 13? ¿Cómo se compara con la estimación frecuentista?"
   ]
  },
  {
   "cell_type": "markdown",
   "metadata": {},
   "source": [
    "Vamos a buscar la probabilidad de que Montiel convierta el penal numero 13."
   ]
  },
  {
   "cell_type": "code",
   "execution_count": null,
   "metadata": {},
   "outputs": [
    {
     "name": "stdout",
     "output_type": "stream",
     "text": [
      "Promedio 0.9260518111532569\n",
      "Esperanza 0.9285714285714286\n"
     ]
    },
    {
     "data": {
      "image/png": "[encoded data removed]",
      "text/plain": [
       "<Figure size 640x480 with 1 Axes>"
      ]
     },
     "metadata": {},
     "output_type": "display_data"
    }
   ],
   "source": [
    "# Generamos unos titas randoms.\n",
    "# A partir de esos titas simulamos la cantidad de goles hechos.\n",
    "# Estos goles los guardamos en \"tiros\".\n",
    "tiros = np.array([])\n",
    "for i in range(1,10000):\n",
    "    tita = np.random.beta(25, 2)\n",
    "    tiros = np.append(tiros, tita)\n",
    "\n",
    "\n",
    "# Calculamos la mediana y el promedio de \"tiros\" \n",
    "mean= np.mean(tiros)\n",
    "print(\"Promedio\", mean)\n",
    "print(\"Esperanza\", 13 / (13+1))     # E = alpha / alpha + beta \n",
    "fig, ax = plt.subplots(1)\n",
    "ax.hist(tiros, bins = 20)\n",
    "ax.set_xlim(0,1)\n",
    "ax.axvline(13 / (13+1), color =\"red\", label = \"Esperanza\")\n",
    "ax.axvline(mean, color = \"green\", linestyle = \"-\", label = \"Promedio\")\n",
    "ax.legend()\n",
    "plt.show()"
   ]
  },
  {
   "cell_type": "markdown",
   "metadata": {},
   "source": [
    "- Segun los Bayesianos, tenemos un 92.6% de probabilidades de ver a Montiel meter el 13vo tiro.\n",
    "\n",
    "- Mientras que los frecuentistas dirian que es el 100%."
   ]
  },
  {
   "cell_type": "markdown",
   "metadata": {},
   "source": [
    "### c)  ¿Qué supuestos estamos haciendo sobre el proceso que generó los datos?"
   ]
  },
  {
   "cell_type": "markdown",
   "metadata": {},
   "source": [
    "- Estamos tomando por sentado muchas cosas que deberian influir en su precision, (arquero, pelota, etc).\n",
    "- Estamos asumiendo que nadie mete el 100% de los tiros.\n"
   ]
  },
  {
   "cell_type": "markdown",
   "metadata": {},
   "source": [
    "### d)  Haciendo simulaciones, crear un histograma de la distribución predicha de penales convertidos en los próximos 10 penales que ejecute Montiel (posterior predictive distribution)."
   ]
  },
  {
   "cell_type": "code",
   "execution_count": null,
   "metadata": {},
   "outputs": [
    {
     "name": "stdout",
     "output_type": "stream",
     "text": [
      "Nuestor array de tiros metidos: [10. 10. 10. ... 10. 10. 10.]\n",
      "Promedio predicho: 9.251325132513252\n"
     ]
    },
    {
     "data": {
      "image/png": "[encoded data removed]",
      "text/plain": [
       "<Figure size 640x480 with 1 Axes>"
      ]
     },
     "metadata": {},
     "output_type": "display_data"
    }
   ],
   "source": [
    "# Vamos a simular este experimento 10mil veces:\n",
    "tiros_predichos = np.array([])\n",
    "for i in range(1,10000):\n",
    "    # Generamos aleatoriamente nuestro tita.\n",
    "    tita = np.random.beta(25, 2)\n",
    "\n",
    "    # Generamos aleatoriamente cuantos goles metió de los 10 tiros.\n",
    "    goles = np.random.binomial(10, tita)\n",
    "\n",
    "    # Guardamos los tiros en un array\n",
    "    tiros_predichos = np.append(tiros_predichos, goles)\n",
    "print(\"Nuestor array de tiros metidos:\", tiros_predichos)\n",
    "\n",
    "mean= np.mean(tiros_predichos)\n",
    "print(\"Promedio predicho:\", mean)\n",
    "fig, ax = plt.subplots(1)\n",
    "ax.hist(tiros_predichos, bins = 15)\n",
    "ax.axvline(mean, color = \"green\", label = \"Promedio\")\n",
    "ax.legend()\n",
    "plt.show()"
   ]
  },
  {
   "cell_type": "markdown",
   "metadata": {},
   "source": [
    "### e) Estimar la probabilidad de que Montiel meta al menos 8 de los próximos 10 penales que patee."
   ]
  },
  {
   "cell_type": "markdown",
   "metadata": {},
   "source": [
    "Teniendo el Histograma anterior, podriamos simplemente sumar los casos en que Montiel haya metido 8, 9 y 10 penales y dividirlos por la cantidad total de intentos. "
   ]
  },
  {
   "cell_type": "code",
   "execution_count": null,
   "metadata": {},
   "outputs": [
    {
     "data": {
      "text/plain": [
       "0.9395939593959396"
      ]
     },
     "execution_count": 18,
     "metadata": {},
     "output_type": "execute_result"
    }
   ],
   "source": [
    "# Filtramos los casos en que Montiel haya metido >= 8 goles\n",
    "tiros_predichos_filtrados = [tiro for tiro in tiros_predichos if tiro >= 8]\n",
    "\n",
    "# Calculamos el promedio frecuentista de que meta >= 8 goles.\n",
    "len(tiros_predichos_filtrados) / len(tiros_predichos)"
   ]
  }
 ],
 "metadata": {
  "kernelspec": {
   "display_name": "Python 3",
   "language": "python",
   "name": "python3"
  },
  "language_info": {
   "codemirror_mode": {
    "name": "ipython",
    "version": 3
   },
   "file_extension": ".py",
   "mimetype": "text/x-python",
   "name": "python",
   "nbconvert_exporter": "python",
   "pygments_lexer": "ipython3",
   "version": "3.12.4"
  }
 },
 "nbformat": 4,
 "nbformat_minor": 2
}
